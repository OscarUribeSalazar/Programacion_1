{
 "cells": [
  {
   "cell_type": "markdown",
   "metadata": {},
   "source": [
    "## Cadenas o String\n",
    "\n",
    "En programación Python, una cadena (string en inglés) es una secuencia de caracteres Unicode, es decir, una serie de caracteres, números, símbolos y espacios en blanco que se utilizan para representar texto. Las cadenas se utilizan para manipular y trabajar con datos de texto en un programa Python. Puedes crear cadenas utilizando comillas simples (' '), comillas dobles (\" \"), o comillas triples (''' ''' o \"\"\" \"\"\") para abarcar múltiples líneas."
   ]
  },
  {
   "cell_type": "code",
   "execution_count": 1,
   "metadata": {},
   "outputs": [],
   "source": [
    "cadena_1 = \"Hola, mundo!\"\n",
    "cadena_2 = \"Python es genial\"\n",
    "cadena_3 = '''Este es un ejemplo\n",
    "de una cadena que abarca\n",
    "varias líneas'''"
   ]
  },
  {
   "cell_type": "code",
   "execution_count": 5,
   "metadata": {},
   "outputs": [
    {
     "data": {
      "text/plain": [
       "'Este es un ejemplo\\nde una cadena que abarca\\nvarias líneas'"
      ]
     },
     "execution_count": 5,
     "metadata": {},
     "output_type": "execute_result"
    }
   ],
   "source": [
    "#Manera 1 de imprimir, solo imprime la ultima variable de la celda.\n",
    "cadena_1\n",
    "cadena_2\n",
    "cadena_3\n",
    "\n",
    "#los caracteres \"\\n\" marcan los enters."
   ]
  },
  {
   "cell_type": "code",
   "execution_count": 3,
   "metadata": {},
   "outputs": [
    {
     "name": "stdout",
     "output_type": "stream",
     "text": [
      "Hola, mundo!\n",
      "Python es genial\n",
      "Este es un ejemplo\n",
      "de una cadena que abarca\n",
      "varias líneas\n"
     ]
    }
   ],
   "source": [
    "#Menera 2 de imprimir utilizando print(), imprime todas las vairbales.\n",
    "print(cadena_1)\n",
    "print(cadena_2)\n",
    "print(cadena_3)"
   ]
  },
  {
   "cell_type": "code",
   "execution_count": 12,
   "metadata": {},
   "outputs": [
    {
     "name": "stdout",
     "output_type": "stream",
     "text": [
      "Hola, mundo\n",
      "H\n",
      "Saludos\n",
      "['Hola', 'mundo']\n",
      "4\n"
     ]
    }
   ],
   "source": [
    "cadena1 = \"Hola\"\n",
    "cadena2 = \"mundo\"\n",
    "sum_cad = cadena1 + \" \" + cadena2\n",
    "\n",
    "# Concatenación de cadenas\n",
    "concatenada = cadena1 + \", \" + cadena2  # Resultado: \"Hola, mundo\"\n",
    "print(concatenada)\n",
    "\n",
    "# Acceso a caracteres individuales (indexación)\n",
    "primer_caracter = cadena1[0]  # Resultado: \"H\"\n",
    "print(primer_caracter)\n",
    "\n",
    "# Reemplazar una subcadena\n",
    "nueva_cadena = cadena1.replace(\"Hola\", \"Saludos\")  # Resultado: \"Saludos\"\n",
    "print(nueva_cadena)\n",
    "\n",
    "# Dividir una cadena en palabras\n",
    "palabras = sum_cad.split()  # Resultado: [\"mundo\"]\n",
    "print(palabras)\n",
    "\n",
    "# Obtener la longitud de una cadena\n",
    "longitud = len(cadena1)  # Resultado: 4\n",
    "print(longitud)"
   ]
  },
  {
   "cell_type": "markdown",
   "metadata": {},
   "source": [
    "### Ejercicio 1\n",
    "\n",
    "Escribir un programa que pregunte el nombre del usuario en la consola y un número entero e imprima por pantalla en líneas distintas el nombre del usuario tantas veces como el número introducido."
   ]
  },
  {
   "cell_type": "code",
   "execution_count": 23,
   "metadata": {},
   "outputs": [
    {
     "name": "stdout",
     "output_type": "stream",
     "text": [
      "oscar\n",
      "oscar\n",
      "oscar\n",
      "oscar\n",
      "oscar\n",
      "oscar\n",
      "oscar\n",
      "oscar\n",
      "oscar\n",
      "oscar\n",
      "oscar\n",
      "oscar\n",
      "\n"
     ]
    }
   ],
   "source": [
    "user_nombre = input(\"¿Cuál es tu nombre?\")\n",
    "num_int = int(input(\"Escribe un número entero\"))\n",
    "\n",
    "print((user_nombre + '\\n') * num_int) #\\n hace que cambie de línea osea un Enter"
   ]
  },
  {
   "cell_type": "markdown",
   "metadata": {},
   "source": [
    "## Ejercicio 2\n",
    "Escribir un programa que pregunte el nombre completo del usuario en la consola y después muestre por pantalla el nombre completo del usuario tres veces, una con todas las letras minúsculas, otra con todas las letras mayúsculas y otra solo con la primera letra del nombre y de los apellidos en mayúscula. El usuario puede introducir su nombre combinando mayúsculas y minúsculas como"
   ]
  },
  {
   "cell_type": "code",
   "execution_count": 28,
   "metadata": {},
   "outputs": [
    {
     "name": "stdout",
     "output_type": "stream",
     "text": [
      "oscar\n",
      "OSCAR\n",
      "Oscar\n"
     ]
    }
   ],
   "source": [
    "user_nombre = input(\"¿Cuál es tu nombre?\")\n",
    "\n",
    "print(user_nombre.lower()) #coloca todo el string en minusculas\n",
    "print(user_nombre.upper()) #coloca todo el string en Mayusculas\n",
    "print(user_nombre.title()) #la primera letra en mayúscula"
   ]
  },
  {
   "cell_type": "markdown",
   "metadata": {},
   "source": [
    "Imprime solo la 4ta letra del nombre"
   ]
  },
  {
   "cell_type": "code",
   "execution_count": 32,
   "metadata": {},
   "outputs": [
    {
     "name": "stdout",
     "output_type": "stream",
     "text": [
      "Oscar\n",
      "a\n"
     ]
    }
   ],
   "source": [
    "user_nombre = input(\"¿Cuál es tu nombre?\")\n",
    "print(user_nombre)\n",
    "print(user_nombre[3])"
   ]
  },
  {
   "cell_type": "markdown",
   "metadata": {},
   "source": [
    "### Ejercicio 3\n",
    "\n",
    "Escribir un programa que pregunte el nombre del usuario en la consola y después de que el usuario lo introduzca muestre por pantalla `<NOMBRE> tiene <n> letras`, donde `<NOMBRE>` es el nombre de usuario en mayúsculas y `<n>` es el número de letras que tienen el nombre."
   ]
  },
  {
   "cell_type": "code",
   "execution_count": 37,
   "metadata": {},
   "outputs": [
    {
     "name": "stdout",
     "output_type": "stream",
     "text": [
      "OSCAR Tiene: 5 letras\n"
     ]
    }
   ],
   "source": [
    "user_nombre = input(\"¿Cuál es tu nombre?\")\n",
    "print(user_nombre.upper() + \" Tiene: \" + str(len(user_nombre)) + \" letras\")"
   ]
  },
  {
   "cell_type": "markdown",
   "metadata": {},
   "source": [
    "### Ejercicio 4\n",
    "\n",
    "Los teléfonos de una empresa tienen el siguiente formato `prefijo-número-extension` donde el prefijo es el código del país `+55`, y la extensión tiene dos dígitos (por ejemplo `+55-33482535-56`). Escribir un programa que pregunte por un número de teléfono con este formato en la consola y muestre por pantalla el número de teléfono sin el prefijo y la extensión."
   ]
  },
  {
   "cell_type": "code",
   "execution_count": 42,
   "metadata": {},
   "outputs": [
    {
     "name": "stdout",
     "output_type": "stream",
     "text": [
      "+55-3315342342-32\n",
      "El número de telefono es: 3315342342\n"
     ]
    }
   ],
   "source": [
    "tel = input(\"Introduce un número de telefono con el formato +xx-xxxxxx-xx\")\n",
    "print(tel)\n",
    "print(\"El número de telefono es:\", tel[4:-3])"
   ]
  },
  {
   "cell_type": "markdown",
   "metadata": {},
   "source": [
    "## Ejercicio 5\n",
    "\n",
    "Escribir un programa que pida al usuario que introduzca una frase en la consola y muestre por pantalla la frase invertida."
   ]
  },
  {
   "cell_type": "code",
   "execution_count": 8,
   "metadata": {},
   "outputs": [
    {
     "name": "stdout",
     "output_type": "stream",
     "text": [
      "leinaD racsO\n"
     ]
    }
   ],
   "source": [
    "user_name = input(\"Introduce tu nombre\")\n",
    "print(user_name[::-1])"
   ]
  },
  {
   "cell_type": "markdown",
   "metadata": {},
   "source": [
    "## Ejercicio 6\n",
    "\n",
    "Escribir un programa que pida al usuario que introduzca una frase en la consola y una vocal en minúscula, y después muestre por pantalla la misma frase pero con la vocal introducida en mayúscula."
   ]
  },
  {
   "cell_type": "code",
   "execution_count": 10,
   "metadata": {},
   "outputs": [
    {
     "name": "stdout",
     "output_type": "stream",
     "text": [
      "La luna sE llama así por quE Es la cuidadora dEl sol.\n"
     ]
    }
   ],
   "source": [
    "frase = input(\"Introduce una frase corta\")\n",
    "vocal = input(\"Introduce una Vocal en minúscula\")\n",
    "\n",
    "print(frase.replace(vocal, vocal.upper()))"
   ]
  },
  {
   "cell_type": "markdown",
   "metadata": {},
   "source": [
    "## Ejercicio 7\n",
    "\n",
    "Escribir un programa que pregunte el correo electrónico del usuario en la consola y muestre por pantalla otro correo electrónico con el mismo nombre (la parte delante de la arroba `@`) pero con dominio `cucea.ugd.mx`."
   ]
  },
  {
   "cell_type": "code",
   "execution_count": 12,
   "metadata": {},
   "outputs": [
    {
     "name": "stdout",
     "output_type": "stream",
     "text": [
      "el_dany_boi@cucea.udg.mx\n"
     ]
    }
   ],
   "source": [
    "correo = input(\"Introduce tu correo electronico\")\n",
    "\n",
    "print(correo[:correo.find(\"@\")] + \"@cucea.udg.mx\")"
   ]
  },
  {
   "cell_type": "markdown",
   "metadata": {},
   "source": [
    "## Ejercicio 8\n",
    "\n",
    "Escribir un programa que pregunte por consola el precio de un producto en pesos con dos decimales y muestre por pantalla el número de euros y el número de céntavos del precio introducido."
   ]
  },
  {
   "cell_type": "code",
   "execution_count": 17,
   "metadata": {},
   "outputs": [
    {
     "name": "stdout",
     "output_type": "stream",
     "text": [
      "143 pesos con 32 centavos\n"
     ]
    }
   ],
   "source": [
    "precio = input(\"Introduce el precio con 2 deciamles\")\n",
    "\n",
    "print(precio[:precio.find(\".\")] + \" pesos con\", precio[precio.find(\".\") + 1 :], \"centavos\")"
   ]
  },
  {
   "cell_type": "markdown",
   "metadata": {},
   "source": [
    "## Ejercicio 9\n",
    "\n",
    "Escribir un programa que pregunte al usuario la fecha de su nacimiento en formato `dd/mm/aaaa` y muestra por pantalla, el día, el mes y el año."
   ]
  },
  {
   "cell_type": "code",
   "execution_count": 28,
   "metadata": {},
   "outputs": [
    {
     "name": "stdout",
     "output_type": "stream",
     "text": [
      "Tu cumpleaños es el día  26, del mes de febrero, del año 1995\n"
     ]
    }
   ],
   "source": [
    "cumple = input(\"Introduce tu fecha de compleaños en formato dd/mm/aaaa\")\n",
    "\n",
    "if cumple[3:5] == \"01\":\n",
    "    x = \"enero\"\n",
    "elif cumple[3:5] == \"02\":\n",
    "    x = \"febrero\"\n",
    "else: # Continuar con los meses\n",
    "    x = \"..\"\n",
    "\n",
    "print(\"Tu cumpleaños es el día \", cumple[:2] + \",\", \"del mes de\", x + \",\", \"del año\", cumple[6:])"
   ]
  },
  {
   "cell_type": "markdown",
   "metadata": {},
   "source": [
    "## Ejercicio 10\n",
    "\n",
    "Escribir un programa que pregunte por consola por los productos de una cesta de la compra, separados por comas, y muestre por pantalla cada uno de los productos en una línea distinta."
   ]
  },
  {
   "cell_type": "code",
   "execution_count": 30,
   "metadata": {},
   "outputs": [
    {
     "name": "stdout",
     "output_type": "stream",
     "text": [
      "cajeta\n",
      " huevo\n",
      " leche\n"
     ]
    }
   ],
   "source": [
    "productos = input(\"Introduce los predouctos de tu cesta de compra seprado por comas\")\n",
    "\n",
    "print(productos.replace(\",\", \"\\n\"))"
   ]
  }
 ],
 "metadata": {
  "kernelspec": {
   "display_name": "progra_1",
   "language": "python",
   "name": "python3"
  },
  "language_info": {
   "codemirror_mode": {
    "name": "ipython",
    "version": 3
   },
   "file_extension": ".py",
   "mimetype": "text/x-python",
   "name": "python",
   "nbconvert_exporter": "python",
   "pygments_lexer": "ipython3",
   "version": "3.8.17"
  },
  "orig_nbformat": 4
 },
 "nbformat": 4,
 "nbformat_minor": 2
}
