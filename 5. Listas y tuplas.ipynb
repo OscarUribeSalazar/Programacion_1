{
 "cells": [
  {
   "cell_type": "markdown",
   "metadata": {},
   "source": [
    "## Listas o tuplas\n",
    "\n",
    "Las listas y las tuplas son dos tipos de estructuras de datos que se utilizan para almacenar colecciones de elementos. Sin embargo, tienen algunas diferencias clave:\n",
    "\n",
    "**Listas (Lists):**\n",
    "\n",
    "Las listas se definen utilizando corchetes [  ].\n",
    "Son mutables, lo que significa que se pueden modificar después de su creación. Puedes agregar, eliminar y cambiar elementos en una lista.\n",
    "Se pueden utilizar para almacenar una colección ordenada de elementos de diferentes tipos (números, cadenas, objetos, etc.).\n",
    "Ejemplo: **mi_lista = [1, 2, 3, 'cuatro']**\n",
    "\n",
    "**Tuplas (Tuples):**\n",
    "\n",
    "Las tuplas se definen utilizando paréntesis ().\n",
    "Son inmutables, lo que significa que no se pueden modificar una vez creadas. No puedes agregar, eliminar ni cambiar elementos en una tupla.\n",
    "Se utilizan para almacenar colecciones ordenadas de elementos, al igual que las listas, pero su inmutabilidad puede ser útil en ciertos contextos.\n",
    "Ejemplo: **mi_tupla = (1, 2, 3, 'cuatro')**"
   ]
  },
  {
   "cell_type": "markdown",
   "metadata": {},
   "source": [
    "**Lista**\n",
    "\n",
    "<pre>\n",
    "   <code>\n",
    "      mi_lista = [1, 2, 3] \n",
    "      mi_lista.append(4)                 # Agrega un elemento al final\n",
    "      mi_lista[1] = 5                    # Cambia el segundo elemento\n",
    "      del mi_lista[0]                    # Elimina el primer elemento\n",
    "   </code>\n",
    "</pre>\n",
    "\n",
    "**Tupla**\n",
    "\n",
    "<pre>\n",
    "   <code>\n",
    "      mi_tupla = (1, 2, 3)\n",
    "   </code>\n",
    "</pre>\n",
    "\n",
    "\n",
    "No se pueden hacer modificaciones en una tupla, por lo que no hay métodos como append, remove o pop para ellas"
   ]
  },
  {
   "cell_type": "markdown",
   "metadata": {},
   "source": [
    "**Ejercicio 1**\n",
    "\n",
    "Escribir un programa que almacene las asignaturas de un curso (por ejemplo Matemáticas, Física, Química, Historia y Lengua) en una lista y la muestre por pantalla."
   ]
  },
  {
   "cell_type": "code",
   "execution_count": 2,
   "metadata": {},
   "outputs": [
    {
     "name": "stdout",
     "output_type": "stream",
     "text": [
      "['Matemátcas', 'Física', 'Química', 'Español', 'Ciencias']\n"
     ]
    }
   ],
   "source": [
    "materias = [\"Matemátcas\", \"Física\", \"Química\", \"Español\", \"Ciencias\"]\n",
    "print(materias)"
   ]
  },
  {
   "cell_type": "code",
   "execution_count": 1,
   "metadata": {},
   "outputs": [
    {
     "name": "stdout",
     "output_type": "stream",
     "text": [
      "['Matemáticas', 'Física', 'Química', 'Historia', 'Lengua']\n"
     ]
    }
   ],
   "source": [
    "subjects = [\"Matemáticas\", \"Física\", \"Química\", \"Historia\", \"Lengua\"]\n",
    "print(subjects)"
   ]
  },
  {
   "cell_type": "markdown",
   "metadata": {},
   "source": [
    "**Ejercicio 2**\n",
    "\n",
    "Escribir un programa que almacene las asignaturas de un curso (por ejemplo Matemáticas, Física, Química, Historia y Lengua) en una lista y la muestre por pantalla."
   ]
  },
  {
   "cell_type": "code",
   "execution_count": 4,
   "metadata": {},
   "outputs": [
    {
     "name": "stdout",
     "output_type": "stream",
     "text": [
      "Matemátcas\n",
      "Física\n",
      "Química\n",
      "Español\n",
      "Ciencias\n"
     ]
    }
   ],
   "source": [
    "materias = [\"Matemátcas\", \"Física\", \"Química\", \"Español\", \"Ciencias\"]\n",
    "\n",
    "for materia in materias:\n",
    "    print(materia)"
   ]
  },
  {
   "cell_type": "code",
   "execution_count": 2,
   "metadata": {},
   "outputs": [
    {
     "name": "stdout",
     "output_type": "stream",
     "text": [
      "Yo estudio Matemáticas\n",
      "Yo estudio Física\n",
      "Yo estudio Química\n",
      "Yo estudio Historia\n",
      "Yo estudio Lengua\n"
     ]
    }
   ],
   "source": [
    "subjects = [\"Matemáticas\", \"Física\", \"Química\", \"Historia\", \"Lengua\"]\n",
    "for subject in subjects:\n",
    "    print(\"Yo estudio \" + subject)"
   ]
  },
  {
   "cell_type": "markdown",
   "metadata": {},
   "source": [
    "**Ejercicio 3**\n",
    "\n",
    "Escribir un programa que almacene las asignaturas de un curso (por ejemplo Matemáticas, Física, Química, Historia y Lengua) en una lista y la muestre por pantalla, con la calificación obtenida"
   ]
  },
  {
   "cell_type": "code",
   "execution_count": 13,
   "metadata": {},
   "outputs": [
    {
     "name": "stdout",
     "output_type": "stream",
     "text": [
      "En la materia Matemátcas obtuve un 10 de calificación\n",
      "En la materia Física obtuve un 9 de calificación\n",
      "En la materia Química obtuve un 8 de calificación\n",
      "En la materia Español obtuve un 7 de calificación\n",
      "En la materia Ciencias obtuve un 10 de calificación\n"
     ]
    }
   ],
   "source": [
    "materias = [\"Matemátcas\", \"Física\", \"Química\", \"Español\", \"Ciencias\"]\n",
    "\n",
    "calificaciones =[]\n",
    "for materia in materias:\n",
    "    calificacion = input(\"Que calificacion sacaste en \" + materia + \"?\")\n",
    "    calificaciones.append(calificacion)\n",
    "for i in range(len(materias)):\n",
    "    print(\"En la materia\", materias[i], \"obtuve un\", calificaciones[i], \"de calificación\")\n"
   ]
  },
  {
   "cell_type": "code",
   "execution_count": 3,
   "metadata": {},
   "outputs": [
    {
     "name": "stdout",
     "output_type": "stream",
     "text": [
      "En Matemáticas has sacado 10\n",
      "En Física has sacado 9\n",
      "En Química has sacado 10\n",
      "En Historia has sacado 8\n",
      "En Lengua has sacado 10\n"
     ]
    }
   ],
   "source": [
    "subjects = [\"Matemáticas\", \"Física\", \"Química\", \"Historia\", \"Lengua\"]\n",
    "scores = []\n",
    "for subject in subjects:\n",
    "    score = input(\"¿Qué nota has sacado en \" + subject + \"?\")\n",
    "    scores.append(score)\n",
    "for i in range(len(subjects)):\n",
    "    print(\"En \" + subjects[i] + \" has sacado \" + scores[i])"
   ]
  },
  {
   "cell_type": "markdown",
   "metadata": {},
   "source": [
    "**Ejercicio 4**\n",
    "\n",
    "Escribir un programa que pregunte al usuario los números ganadores de la lotería primitiva, los almacene en una lista y los muestre por pantalla ordenados de menor a mayor."
   ]
  },
  {
   "cell_type": "code",
   "execution_count": 14,
   "metadata": {},
   "outputs": [
    {
     "name": "stdout",
     "output_type": "stream",
     "text": [
      "Los números ganadores son [123, 123, 124, 124, 124, 1232]\n"
     ]
    }
   ],
   "source": [
    "num = []#lista para almacenar\n",
    "for i in range(6): # se itera en 6 por que son la cantidad de números de la lotería\n",
    "    num.append(int(input(\"Introduce un número ganador: \")))#te pide que introduzca los numeros\n",
    "num.sort()#ordena los numeros\n",
    "print(\"Los números ganadores son \" + str(num))"
   ]
  },
  {
   "cell_type": "markdown",
   "metadata": {},
   "source": [
    "**Ejercicio 5**\n",
    "\n",
    "Escribir un programa que almacene en una lista los números del 1 al 10 y los muestre por pantalla en orden inverso separados por comas."
   ]
  },
  {
   "cell_type": "code",
   "execution_count": 16,
   "metadata": {},
   "outputs": [
    {
     "name": "stdout",
     "output_type": "stream",
     "text": [
      "10, 9, 8, 7, 6, 5, 4, 3, 2, 1, "
     ]
    }
   ],
   "source": [
    "nums = [1,2,3,4,5,6,7,8,9,10]\n",
    "\n",
    "for i in range(1, 11):\n",
    "    print(nums[-i], end=\", \")"
   ]
  },
  {
   "cell_type": "code",
   "execution_count": 4,
   "metadata": {},
   "outputs": [
    {
     "name": "stdout",
     "output_type": "stream",
     "text": [
      "10, 9, 8, 7, 6, 5, 4, 3, 2, 1, "
     ]
    }
   ],
   "source": [
    "numbers = [1, 2, 3, 4, 5, 6, 7, 8, 9, 10]\n",
    "for i in range(1, 11):\n",
    "    print(numbers[-i], end=\", \")"
   ]
  },
  {
   "cell_type": "markdown",
   "metadata": {},
   "source": [
    "**Ejercicio 6**\n",
    "\n",
    "Escribir un programa que almacene las asignaturas de un curso (por ejemplo Matemáticas, Física, Química, Historia y Lengua) en una lista, pregunte al usuario la nota que ha sacado en cada asignatura y elimine de la lista las asignaturas aprobadas. Al final el programa debe mostrar por pantalla las asignaturas que el usuario tiene que repetir."
   ]
  },
  {
   "cell_type": "code",
   "execution_count": 18,
   "metadata": {},
   "outputs": [
    {
     "name": "stdout",
     "output_type": "stream",
     "text": [
      "Las materias que tienes que repetir son: ['Física', 'Español']\n",
      "En la materia Física obtuve un 10 de calificación\n",
      "En la materia Español obtuve un 9 de calificación\n"
     ]
    }
   ],
   "source": [
    "materias = [\"Matemátcas\", \"Física\", \"Química\", \"Español\", \"Ciencias\"]\n",
    "\n",
    "pasdadas =[]\n",
    "for materia in materias:\n",
    "    calificacion = int(input(\"Que calificacion sacaste en \" + materia + \"?\"))\n",
    "    if calificacion > 5:\n",
    "        pasdadas.append(materia)\n",
    "for pasadas in materias:\n",
    "    materias.remove(pasadas)\n",
    "print(\"Las materias que tienes que repetir son:\", materias)\n",
    "for i in range(len(materias)):\n",
    "    print(\"En la materia\", materias[i], \"obtuve un\", calificaciones[i], \"de calificación\")\n"
   ]
  },
  {
   "cell_type": "code",
   "execution_count": null,
   "metadata": {},
   "outputs": [],
   "source": [
    "subjects = [\"Matemáticas\", \"Física\", \"Química\", \"Historia\", \"Lengua\"]\n",
    "passed = []\n",
    "for subject in subjects:\n",
    "    score = float(input(\"¿Qué nota has sacado en \" + subject + \"?\"))\n",
    "    if score >= 5:\n",
    "        passed.append(subject)\n",
    "for subject in passed:\n",
    "    subjects.remove(subject)\n",
    "print(\"Tienes que repetir \" + str(subjects))"
   ]
  },
  {
   "cell_type": "markdown",
   "metadata": {},
   "source": [
    "**Ejercicio  7**\n",
    "\n",
    "Escribir un programa que almacene el abecedario en una lista, elimine de la lista las letras que ocupen posiciones múltiplos de 3, y muestre por pantalla la lista resultante."
   ]
  },
  {
   "cell_type": "code",
   "execution_count": 20,
   "metadata": {},
   "outputs": [
    {
     "name": "stdout",
     "output_type": "stream",
     "text": [
      "['a', 'b', 'd', 'e', 'g', 'h', 'j', 'k', 'm', 'n', 'o', 'p', 'r', 's', 'u', 'v', 'x', 'y']\n"
     ]
    }
   ],
   "source": [
    "avecedario = ['a', 'b', 'c', 'd', 'e', 'f', 'g', 'h', 'i', 'j', 'k', 'l', 'm', 'n', 'ñ', 'o', 'p', 'q', 'r', 's', 't', 'u', 'v', 'w', 'x', 'y', 'z']\n",
    "\n",
    "for i in range(len(avecedario), 1, -1):\n",
    "    if i % 3 == 0:\n",
    "        avecedario.pop(i-1)#eliminar el elemento de la lista\n",
    "print(avecedario)"
   ]
  },
  {
   "cell_type": "code",
   "execution_count": 5,
   "metadata": {},
   "outputs": [
    {
     "name": "stdout",
     "output_type": "stream",
     "text": [
      "['a', 'b', 'd', 'e', 'g', 'h', 'j', 'k', 'm', 'n', 'o', 'p', 'r', 's', 'u', 'v', 'x', 'y']\n"
     ]
    }
   ],
   "source": [
    "alphabet = ['a', 'b', 'c', 'd', 'e', 'f', 'g', 'h', 'i', 'j', 'k', 'l', 'm', 'n', 'ñ', 'o', 'p', 'q', 'r', 's', 't', 'u', 'v', 'w', 'x', 'y', 'z']\n",
    "for i in range(len(alphabet), 1, -1):\n",
    "    if i % 3 == 0:\n",
    "        alphabet.pop(i-1)\n",
    "print(alphabet)"
   ]
  },
  {
   "cell_type": "markdown",
   "metadata": {},
   "source": [
    "**Ejercicio 8**\n",
    "\n",
    "Escribir un programa que pida al usuario una palabra y muestre por pantalla si es un palíndromo."
   ]
  },
  {
   "cell_type": "code",
   "execution_count": 23,
   "metadata": {},
   "outputs": [
    {
     "name": "stdout",
     "output_type": "stream",
     "text": [
      "No es un palíndromo\n"
     ]
    }
   ],
   "source": [
    "word = input(\"Introduce una palabra: \")\n",
    "if word == word[::-1]:\n",
    "    print(\"Es un palíndromo\")\n",
    "else:\n",
    "    print(\"No es un palíndromo\")"
   ]
  },
  {
   "cell_type": "markdown",
   "metadata": {},
   "source": [
    "**Ejercicio 9**\n",
    "\n",
    "Escribir un programa que pida al usuario una palabra y muestre por pantalla el número de veces que contiene cada vocal."
   ]
  },
  {
   "cell_type": "code",
   "execution_count": 24,
   "metadata": {},
   "outputs": [
    {
     "name": "stdout",
     "output_type": "stream",
     "text": [
      "La vocal a aparece 0 veces\n",
      "La vocal e aparece 1 veces\n",
      "La vocal i aparece 0 veces\n",
      "La vocal o aparece 0 veces\n",
      "La vocal u aparece 1 veces\n"
     ]
    }
   ],
   "source": [
    "word = input(\"Introduce una palabra: \")\n",
    "vocals = ['a', 'e', 'i', 'o', 'u']\n",
    "for vocal in vocals: \n",
    "    times = 0\n",
    "    for letter in word: \n",
    "        if letter == vocal:\n",
    "            times += 1\n",
    "    print(\"La vocal \" + vocal + \" aparece \" + str(times) + \" veces\")"
   ]
  },
  {
   "cell_type": "markdown",
   "metadata": {},
   "source": [
    "**Ejercicio 10**\n",
    "\n",
    "Escribir un programa que almacene en una lista los siguientes precios, 50, 75, 46, 22, 80, 65, 8, y muestre por pantalla el menor y el mayor de los precios."
   ]
  },
  {
   "cell_type": "code",
   "execution_count": 25,
   "metadata": {},
   "outputs": [
    {
     "name": "stdout",
     "output_type": "stream",
     "text": [
      "El mínimo es 8\n",
      "El máximo es 80\n"
     ]
    }
   ],
   "source": [
    "precio = [50, 75, 46, 22, 80, 65, 8]\n",
    "precio_min = min(precio)\n",
    "precio_max = max(precio)\n",
    "print(\"El mínimo es \" + str(precio_min)) \n",
    "print(\"El máximo es \" + str(precio_max))"
   ]
  }
 ],
 "metadata": {
  "kernelspec": {
   "display_name": "progra_1",
   "language": "python",
   "name": "python3"
  },
  "language_info": {
   "codemirror_mode": {
    "name": "ipython",
    "version": 3
   },
   "file_extension": ".py",
   "mimetype": "text/x-python",
   "name": "python",
   "nbconvert_exporter": "python",
   "pygments_lexer": "ipython3",
   "version": "3.8.17"
  },
  "orig_nbformat": 4
 },
 "nbformat": 4,
 "nbformat_minor": 2
}
