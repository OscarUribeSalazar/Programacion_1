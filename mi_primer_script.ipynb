{
 "cells": [
  {
   "cell_type": "markdown",
   "metadata": {},
   "source": [
    "Mi primer script"
   ]
  },
  {
   "cell_type": "code",
   "execution_count": 16,
   "metadata": {},
   "outputs": [
    {
     "data": {
      "text/plain": [
       "5"
      ]
     },
     "execution_count": 16,
     "metadata": {},
     "output_type": "execute_result"
    }
   ],
   "source": [
    "2+3"
   ]
  },
  {
   "cell_type": "code",
   "execution_count": 17,
   "metadata": {},
   "outputs": [],
   "source": [
    "A = 3;"
   ]
  },
  {
   "cell_type": "code",
   "execution_count": 18,
   "metadata": {},
   "outputs": [],
   "source": [
    "B = 6"
   ]
  },
  {
   "cell_type": "code",
   "execution_count": 19,
   "metadata": {},
   "outputs": [],
   "source": [
    "C = A + B"
   ]
  },
  {
   "cell_type": "code",
   "execution_count": 20,
   "metadata": {},
   "outputs": [
    {
     "data": {
      "text/plain": [
       "9"
      ]
     },
     "execution_count": 20,
     "metadata": {},
     "output_type": "execute_result"
    }
   ],
   "source": [
    "C"
   ]
  },
  {
   "cell_type": "markdown",
   "metadata": {},
   "source": [
    "Multiplicación de Variables"
   ]
  },
  {
   "cell_type": "code",
   "execution_count": 21,
   "metadata": {},
   "outputs": [
    {
     "data": {
      "text/plain": [
       "18"
      ]
     },
     "execution_count": 21,
     "metadata": {},
     "output_type": "execute_result"
    }
   ],
   "source": [
    "D = A * B\n",
    "D"
   ]
  },
  {
   "cell_type": "markdown",
   "metadata": {},
   "source": [
    "Suma de dos variables"
   ]
  },
  {
   "cell_type": "code",
   "execution_count": 22,
   "metadata": {},
   "outputs": [
    {
     "name": "stdout",
     "output_type": "stream",
     "text": [
      "La suma es: 15\n"
     ]
    }
   ],
   "source": [
    "num1 = 5\n",
    "num2 = 10\n",
    "suma = num1 + num2\n",
    "print(\"La suma es:\", suma)"
   ]
  },
  {
   "cell_type": "markdown",
   "metadata": {},
   "source": [
    "Resta de dos variables"
   ]
  },
  {
   "cell_type": "code",
   "execution_count": 23,
   "metadata": {},
   "outputs": [
    {
     "name": "stdout",
     "output_type": "stream",
     "text": [
      "La resta es: -5\n"
     ]
    }
   ],
   "source": [
    "num1 = 5\n",
    "num2 = 10\n",
    "suma = num1 - num2\n",
    "print(\"La resta es:\", suma)"
   ]
  },
  {
   "cell_type": "markdown",
   "metadata": {},
   "source": [
    "Multiplicación de dos varibales"
   ]
  },
  {
   "cell_type": "code",
   "execution_count": 24,
   "metadata": {},
   "outputs": [
    {
     "name": "stdout",
     "output_type": "stream",
     "text": [
      "La multiplicación es: 50\n"
     ]
    }
   ],
   "source": [
    "num1 = 5\n",
    "num2 = 10\n",
    "suma = num1 * num2\n",
    "print(\"La multiplicación es:\", suma)"
   ]
  },
  {
   "cell_type": "markdown",
   "metadata": {},
   "source": [
    "La División de dos varibales"
   ]
  },
  {
   "cell_type": "code",
   "execution_count": 25,
   "metadata": {},
   "outputs": [
    {
     "name": "stdout",
     "output_type": "stream",
     "text": [
      "La división es: 0.5\n"
     ]
    }
   ],
   "source": [
    "num1 = 5\n",
    "num2 = 10\n",
    "suma = num1 / num2\n",
    "print(\"La división es:\", suma)"
   ]
  },
  {
   "cell_type": "markdown",
   "metadata": {},
   "source": [
    "Area de un Triangulo"
   ]
  },
  {
   "cell_type": "code",
   "execution_count": 26,
   "metadata": {},
   "outputs": [
    {
     "name": "stdout",
     "output_type": "stream",
     "text": [
      "El área del triangulo es: 150.0\n"
     ]
    }
   ],
   "source": [
    "base = 15\n",
    "altura = 20\n",
    "area_triangulo = base * altura / 2\n",
    "\n",
    "print(\"El área del triangulo es:\", area_triangulo)"
   ]
  },
  {
   "cell_type": "markdown",
   "metadata": {},
   "source": [
    "Area de un Rectangulo"
   ]
  },
  {
   "cell_type": "code",
   "execution_count": 27,
   "metadata": {},
   "outputs": [
    {
     "name": "stdout",
     "output_type": "stream",
     "text": [
      "El área del Rectangulo es: 300\n"
     ]
    }
   ],
   "source": [
    "base = 15\n",
    "altura = 20\n",
    "area_rectangulo = base * altura \n",
    "\n",
    "print(\"El área del Rectangulo es:\", area_rectangulo)"
   ]
  },
  {
   "cell_type": "markdown",
   "metadata": {},
   "source": [
    "Area de un Circulo"
   ]
  },
  {
   "cell_type": "code",
   "execution_count": 30,
   "metadata": {},
   "outputs": [
    {
     "name": "stdout",
     "output_type": "stream",
     "text": [
      "El area del circulo es:  78.54 m2\n"
     ]
    }
   ],
   "source": [
    "import math\n",
    "\n",
    "radio = 5\n",
    "\n",
    "circulo = math.pi * (radio ** 2)\n",
    "\n",
    "print('El area del circulo es: ', round(circulo, 2), 'm2')"
   ]
  },
  {
   "cell_type": "markdown",
   "metadata": {},
   "source": [
    "Suma con Input"
   ]
  },
  {
   "cell_type": "code",
   "execution_count": 34,
   "metadata": {},
   "outputs": [
    {
     "name": "stdout",
     "output_type": "stream",
     "text": [
      "El primer valor es: 23\n",
      "El segundo valor es: 23\n",
      "La suma es: 46\n"
     ]
    }
   ],
   "source": [
    "n1 = int(input(\"Introduce el primer valor: \"))\n",
    "print(\"El primer valor es:\", n1)\n",
    "n2 = int(input(\"Introduce el segundo valor: \"))\n",
    "print(\"El segundo valor es:\", n2)\n",
    "suma = n1 + n2\n",
    "print(\"La suma es:\", suma)"
   ]
  },
  {
   "cell_type": "markdown",
   "metadata": {},
   "source": [
    "Área del Triangulo con Input"
   ]
  },
  {
   "cell_type": "code",
   "execution_count": 38,
   "metadata": {},
   "outputs": [
    {
     "name": "stdout",
     "output_type": "stream",
     "text": [
      "La base que escogiste es: 4 m\n",
      "La altura que escogiste es: 4 m\n",
      "El área del triangulo es: 8.0 m2\n"
     ]
    }
   ],
   "source": [
    "base = int(input(\"Introduce la base del trinagulo\"))\n",
    "print(\"La base que escogiste es:\", base, 'm')\n",
    "altura = int(input(\"Introduce la altura del trinagulo\"))\n",
    "print(\"La altura que escogiste es:\", altura, 'm')\n",
    "area_triangulo = (base * altura) / 2\n",
    "\n",
    "print(\"El área del triangulo es:\", area_triangulo, 'm2')"
   ]
  },
  {
   "cell_type": "markdown",
   "metadata": {},
   "source": [
    "Área del Rectangulo con Input"
   ]
  },
  {
   "cell_type": "code",
   "execution_count": 39,
   "metadata": {},
   "outputs": [
    {
     "name": "stdout",
     "output_type": "stream",
     "text": [
      "La base que escogiste es: 3 m\n",
      "La altura que escogiste es: 5 m\n",
      "El área del Rectangulo es: 15 m2\n"
     ]
    }
   ],
   "source": [
    "base = int(input(\"Introduce la base del rectangulo\"))\n",
    "print(\"La base que escogiste es:\", base, 'm')\n",
    "altura = int(input(\"Introduce la altura del rectangulo\"))\n",
    "print(\"La altura que escogiste es:\", altura, 'm')\n",
    "area_rectangulo = base * altura \n",
    "\n",
    "print(\"El área del Rectangulo es:\", area_rectangulo, 'm2')"
   ]
  },
  {
   "cell_type": "markdown",
   "metadata": {},
   "source": [
    "Área del Circulo con Input"
   ]
  },
  {
   "cell_type": "code",
   "execution_count": 40,
   "metadata": {},
   "outputs": [
    {
     "name": "stdout",
     "output_type": "stream",
     "text": [
      "El rado que escogiste es: 2 m\n",
      "El area del circulo es:  12.57 m2\n"
     ]
    }
   ],
   "source": [
    "import math\n",
    "\n",
    "radio = int(input(\"Introduce la radio del circulo\"))\n",
    "print(\"El rado que escogiste es:\", radio, 'm')\n",
    "circulo = math.pi * (radio ** 2)\n",
    "\n",
    "print('El area del circulo es: ', round(circulo, 2), 'm2')"
   ]
  },
  {
   "cell_type": "markdown",
   "metadata": {},
   "source": [
    "Conversión de grados farenheit a celsius con Input"
   ]
  },
  {
   "cell_type": "code",
   "execution_count": 53,
   "metadata": {},
   "outputs": [
    {
     "name": "stdout",
     "output_type": "stream",
     "text": [
      "Los grados Farenheit que introduciste es: °22 grados\n",
      "La conversión de Farenheit a Celsius: °-5.6 grados\n"
     ]
    }
   ],
   "source": [
    "grado_f = int(input(\"Introduce los grados Farenheit\"))\n",
    "print(\"Los grados Farenheit que introduciste es:\" , \"°\" + str(grado_f), \"grados\")\n",
    "\n",
    "conversion_c = round((grado_f - 32)*(5/9), 1)\n",
    "\n",
    "print(\"La conversión de Farenheit a Celsius:\" , \"°\" + str(conversion_c), \"grados\")"
   ]
  },
  {
   "cell_type": "markdown",
   "metadata": {},
   "source": [
    "Conversión de grados celsius a fahrenheit con Input"
   ]
  },
  {
   "cell_type": "code",
   "execution_count": 54,
   "metadata": {},
   "outputs": [
    {
     "name": "stdout",
     "output_type": "stream",
     "text": [
      "Los grados Celsius que introduciste es: °22 grados\n",
      "La conversión de Celsius a Farenheit: °132.8 grados\n"
     ]
    }
   ],
   "source": [
    "grado_c = int(input(\"Introduce los grados Celsius\"))\n",
    "print(\"Los grados Celsius que introduciste es:\" , \"°\" + str(grado_f), \"grados\")\n",
    "\n",
    "conversion_c = round((grado_c * (9/5) + 32), 1)\n",
    "\n",
    "print(\"La conversión de Celsius a Farenheit:\" , \"°\" + str(conversion_c), \"grados\")"
   ]
  }
 ],
 "metadata": {
  "kernelspec": {
   "display_name": "progra_1",
   "language": "python",
   "name": "python3"
  },
  "language_info": {
   "codemirror_mode": {
    "name": "ipython",
    "version": 3
   },
   "file_extension": ".py",
   "mimetype": "text/x-python",
   "name": "python",
   "nbconvert_exporter": "python",
   "pygments_lexer": "ipython3",
   "version": "3.8.17"
  },
  "orig_nbformat": 4
 },
 "nbformat": 4,
 "nbformat_minor": 2
}
