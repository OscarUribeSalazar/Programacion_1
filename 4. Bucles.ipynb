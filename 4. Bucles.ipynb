{
 "cells": [
  {
   "cell_type": "markdown",
   "metadata": {},
   "source": [
    "## Bucles  o Loops"
   ]
  },
  {
   "cell_type": "markdown",
   "metadata": {},
   "source": [
    "Un bucle es una estructura de control que permite repetir un conjunto de instrucciones varias veces. Los bucles son una parte fundamental de la programación, ya que te permiten automatizar tareas que requieren repetición. Python admite dos tipos principales de bucles: el bucle \"for\" y el bucle \"while\".\n",
    "\n",
    "**Bucle \"for\"** : \n",
    "\n",
    "El bucle \"for\" se utiliza para iterar sobre una secuencia (como una lista, una tupla, una cadena de caracteres o un rango numérico) y ejecutar un bloque de código para cada elemento de la secuencia. Aquí tienes un ejemplo de un bucle \"for\" que recorre una lista de números e imprime cada número:\n",
    "\n"
   ]
  },
  {
   "cell_type": "code",
   "execution_count": 3,
   "metadata": {},
   "outputs": [
    {
     "name": "stdout",
     "output_type": "stream",
     "text": [
      "1\n",
      "2\n",
      "3\n",
      "4\n",
      "5\n"
     ]
    }
   ],
   "source": [
    "numeros = [1, 2, 3, 4, 5]\n",
    "for numero in numeros: # for numero (hace referencia a singular que revisará uno por uno en la lista) in numeros(datos en los que va iterar si te fijas esta en plurar)\n",
    "   print(numero) #acción"
   ]
  },
  {
   "cell_type": "markdown",
   "metadata": {},
   "source": [
    "**Bucle \"while\"** :\n",
    "\n",
    "El bucle \"while\" se utiliza para repetir un bloque de código mientras una condición sea verdadera. En otras palabras, el bucle continuará ejecutándose mientras la condición especificada sea cierta. Aquí tienes un ejemplo de un bucle \"while\" que cuenta del 1 al 5:\n",
    "\n"
   ]
  },
  {
   "cell_type": "code",
   "execution_count": 4,
   "metadata": {},
   "outputs": [
    {
     "name": "stdout",
     "output_type": "stream",
     "text": [
      "1\n",
      "2\n",
      "3\n",
      "4\n",
      "5\n"
     ]
    }
   ],
   "source": [
    "contador = 1\n",
    "while contador <= 5: #condición\n",
    "    print(contador) #acción\n",
    "    contador += 1 #acción cambiante"
   ]
  },
  {
   "cell_type": "markdown",
   "metadata": {},
   "source": [
    "**Ejercicio 1**\n",
    "\n",
    "Escribir un programa que pida al usuario una palabra y la muestre 10 veces por pantalla."
   ]
  },
  {
   "cell_type": "code",
   "execution_count": 5,
   "metadata": {},
   "outputs": [
    {
     "name": "stdout",
     "output_type": "stream",
     "text": [
      "Hola\n",
      "Hola\n",
      "Hola\n",
      "Hola\n",
      "Hola\n",
      "Hola\n",
      "Hola\n",
      "Hola\n",
      "Hola\n",
      "Hola\n"
     ]
    }
   ],
   "source": [
    "palabra = input(\"Ingresa una palabra\")\n",
    "\n",
    "for i in range(10):\n",
    "    print(palabra)"
   ]
  },
  {
   "cell_type": "markdown",
   "metadata": {},
   "source": [
    "**Ejercicio  2**\n",
    "\n",
    "Escribir un programa que pregunte al usuario su edad y muestre por pantalla todos los años que ha cumplido (desde 1 hasta su edad)."
   ]
  },
  {
   "cell_type": "code",
   "execution_count": 6,
   "metadata": {},
   "outputs": [
    {
     "name": "stdout",
     "output_type": "stream",
     "text": [
      "Tienes 1 años\n",
      "Tienes 2 años\n",
      "Tienes 3 años\n",
      "Tienes 4 años\n",
      "Tienes 5 años\n",
      "Tienes 6 años\n",
      "Tienes 7 años\n",
      "Tienes 8 años\n",
      "Tienes 9 años\n",
      "Tienes 10 años\n",
      "Tienes 11 años\n",
      "Tienes 12 años\n",
      "Tienes 13 años\n",
      "Tienes 14 años\n",
      "Tienes 15 años\n",
      "Tienes 16 años\n",
      "Tienes 17 años\n",
      "Tienes 18 años\n",
      "Tienes 19 años\n",
      "Tienes 20 años\n",
      "Tienes 21 años\n",
      "Tienes 22 años\n",
      "Tienes 23 años\n"
     ]
    }
   ],
   "source": [
    "edad = int(input(\"Ingresa tu edad\"))\n",
    "\n",
    "for i in range(edad):\n",
    "    print(\"Tienes\", str(i+1), \"años\")"
   ]
  },
  {
   "cell_type": "markdown",
   "metadata": {},
   "source": [
    "**Ejercicio 3**\n",
    "\n",
    "Escribir un programa que pida al usuario un número entero positivo y muestre por pantalla todos los números impares desde 1 hasta ese número separados por comas."
   ]
  },
  {
   "cell_type": "code",
   "execution_count": 8,
   "metadata": {},
   "outputs": [
    {
     "name": "stdout",
     "output_type": "stream",
     "text": [
      "1, 3, 5, 7, 9, 11, "
     ]
    }
   ],
   "source": [
    "num = int(input(\"Ingresa un número entero postivo\"))\n",
    "\n",
    "for i in range(1, num+1, 2):\n",
    "    print(i, end=\", \") #end sirve para especificar que continue en la misma linea y especificas con que debe terminar.\n"
   ]
  },
  {
   "cell_type": "markdown",
   "metadata": {},
   "source": [
    "**Ejercicio 4**\n",
    "\n",
    "Escribir un programa que pida al usuario un número entero positivo y muestre por pantalla la cuenta atrás desde ese número hasta cero separados por comas."
   ]
  },
  {
   "cell_type": "code",
   "execution_count": 9,
   "metadata": {},
   "outputs": [
    {
     "name": "stdout",
     "output_type": "stream",
     "text": [
      "23, 22, 21, 20, 19, 18, 17, 16, 15, 14, 13, 12, 11, 10, 9, 8, 7, 6, 5, 4, 3, 2, 1, 0, "
     ]
    }
   ],
   "source": [
    "num = int(input(\"Ingresa un número entero postivo\"))\n",
    "\n",
    "for i in range(num, -1, -1):\n",
    "    print(i, end=\", \")"
   ]
  },
  {
   "cell_type": "markdown",
   "metadata": {},
   "source": [
    "**Ejercicio 5**\n",
    "\n",
    "Escribir un programa que pregunte al usuario una cantidad a invertir, el interés anual y el número de años, y muestre por pantalla el capital obtenido en la inversión cada año que dura la inversión."
   ]
  },
  {
   "cell_type": "code",
   "execution_count": 13,
   "metadata": {},
   "outputs": [
    {
     "name": "stdout",
     "output_type": "stream",
     "text": [
      "Año: 1 Ganancias 2200.0\n",
      "Año: 2 Ganancias 2420.0\n",
      "Año: 3 Ganancias 2662.0\n"
     ]
    }
   ],
   "source": [
    "inv = float(input(\"¿Cuanta cantidad de dinero desea invertir?\"))\n",
    "iva =  float(input(\"¿Cuál es el interes anual?\"))\n",
    "años = int(input(\"¿A cuantos años?\"))\n",
    "\n",
    "for i in range(1, años+1):\n",
    "    inv *= 1 + iva / 100\n",
    "    print(\"Año:\", str(i), \"Ganancias\", str(round(inv,2 )))"
   ]
  },
  {
   "cell_type": "markdown",
   "metadata": {},
   "source": [
    "**Ejercicio 6**\n",
    "\n",
    "\n",
    "Escribir un programa que pida al usuario un número entero y muestre por pantalla un triángulo rectángulo como el de más abajo, de altura el número introducido.\n",
    "\n",
    "```\n",
    "*\n",
    "**\n",
    "***\n",
    "****\n",
    "*****\n",
    "```"
   ]
  },
  {
   "cell_type": "code",
   "execution_count": 14,
   "metadata": {},
   "outputs": [
    {
     "name": "stdout",
     "output_type": "stream",
     "text": [
      "*\n",
      "**\n"
     ]
    }
   ],
   "source": [
    "num = int(input(\"Introduce un número entero\")) # Solicita un número entero al usuario, ejemplo 5\n",
    "for i in range(num):# el rango será de 0 a 5\n",
    "    for j in range(i+1): #cuando i valga 0, j tomará el valor 0+1 = 1, y así sucesivamente\n",
    "        print(\"*\", end=\"\") # Imprime un asterisco sin salto de línea\n",
    "    print(\"\") #Imprime un salto de línea después de cada fila de asteriscos"
   ]
  },
  {
   "cell_type": "markdown",
   "metadata": {},
   "source": [
    "**Ejercicio 7**\n",
    "\n",
    "Escribir un programa que muestre por pantalla la tabla de multiplicar del 1 al 10."
   ]
  },
  {
   "cell_type": "code",
   "execution_count": 15,
   "metadata": {},
   "outputs": [
    {
     "name": "stdout",
     "output_type": "stream",
     "text": [
      "1\t2\t3\t4\t5\t6\t7\t8\t9\t10\t\n",
      "2\t4\t6\t8\t10\t12\t14\t16\t18\t20\t\n",
      "3\t6\t9\t12\t15\t18\t21\t24\t27\t30\t\n",
      "4\t8\t12\t16\t20\t24\t28\t32\t36\t40\t\n",
      "5\t10\t15\t20\t25\t30\t35\t40\t45\t50\t\n",
      "6\t12\t18\t24\t30\t36\t42\t48\t54\t60\t\n",
      "7\t14\t21\t28\t35\t42\t49\t56\t63\t70\t\n",
      "8\t16\t24\t32\t40\t48\t56\t64\t72\t80\t\n",
      "9\t18\t27\t36\t45\t54\t63\t72\t81\t90\t\n",
      "10\t20\t30\t40\t50\t60\t70\t80\t90\t100\t\n"
     ]
    }
   ],
   "source": [
    "for i in range(1, 11):\n",
    "    for j in range(1,11):\n",
    "        print(i*j, end=\"\\t\") #Imprime la multiplicación de i*j y \"\\t\" añade una tabulación\n",
    "    print(\"\")"
   ]
  },
  {
   "cell_type": "markdown",
   "metadata": {},
   "source": [
    "**Ejercicio 8**\n",
    "\n",
    "Escribir un programa que pida al usuario un número entero y muestre por pantalla un triángulo rectángulo como el de más abajo, de altura el número introducido.\n",
    "\n",
    "```\n",
    "1\n",
    "3 1\n",
    "5 3 1\n",
    "7 5 3 1\n",
    "9 7 5 3 1\n",
    "```"
   ]
  },
  {
   "cell_type": "code",
   "execution_count": 16,
   "metadata": {},
   "outputs": [
    {
     "name": "stdout",
     "output_type": "stream",
     "text": [
      "1 \n",
      "3 1 \n",
      "5 3 1 \n",
      "7 5 3 1 \n",
      "9 7 5 3 1 \n",
      "11 9 7 5 3 1 \n",
      "13 11 9 7 5 3 1 \n",
      "15 13 11 9 7 5 3 1 \n",
      "17 15 13 11 9 7 5 3 1 \n",
      "19 17 15 13 11 9 7 5 3 1 \n",
      "21 19 17 15 13 11 9 7 5 3 1 \n",
      "23 21 19 17 15 13 11 9 7 5 3 1 \n"
     ]
    }
   ],
   "source": [
    "num = int(input(\"Introduce un número entero\")) # Solicita un número entero al usuario, ejemplo 5\n",
    "for i in range(1, num+1, 2):# el rango será de 1 a 5\n",
    "    for j in range(i, 0, -2): # cuando i valga 1, j tomará el valor -1 en pasos de dos y así sucesivamente\n",
    "        print(j, end=\" \") # Imprime uel valor de j sin salto de línea\n",
    "    print(\"\") #Imprime un salto de línea después de cada fila de asteriscos"
   ]
  },
  {
   "cell_type": "markdown",
   "metadata": {},
   "source": [
    "**Ejercicio 9**\n",
    "\n",
    "Escribir un programa que almacene la cadena de caracteres `contraseña` en una variable, pregunte al usuario por la contraseña hasta que introduzca la contraseña correcta."
   ]
  },
  {
   "cell_type": "code",
   "execution_count": 18,
   "metadata": {},
   "outputs": [
    {
     "name": "stdout",
     "output_type": "stream",
     "text": [
      "contrseña correcta\n"
     ]
    }
   ],
   "source": [
    "contraseña = \"contraseña\"\n",
    "password = \"\"\n",
    "while password != contraseña:\n",
    "    password = input(\"Coloca la contraseña\")\n",
    "print(\"contrseña correcta\")\n"
   ]
  },
  {
   "cell_type": "markdown",
   "metadata": {},
   "source": [
    "**Ejercicio 10**\n",
    "\n",
    "Escribir un programa que pida al usuario un número entero positivo mayor que 2 y muestre por pantalla si es un número primo o no."
   ]
  },
  {
   "cell_type": "code",
   "execution_count": 19,
   "metadata": {},
   "outputs": [
    {
     "name": "stdout",
     "output_type": "stream",
     "text": [
      "23  es primo\n"
     ]
    }
   ],
   "source": [
    "num = int(input(\"Introduce un número entero mayor que 2\"))\n",
    "i = 2\n",
    "while num % i != 0: #Si el valor num es dividido entre dos y tiene recudio diferente de 0\n",
    "    i += 1 #suma 1 a la variable i\n",
    "if i == num:\n",
    "    print(str(num), \" es primo\")\n",
    "else:\n",
    "    print(str(num), \" no es primo\")"
   ]
  }
 ],
 "metadata": {
  "kernelspec": {
   "display_name": "progra_1",
   "language": "python",
   "name": "python3"
  },
  "language_info": {
   "codemirror_mode": {
    "name": "ipython",
    "version": 3
   },
   "file_extension": ".py",
   "mimetype": "text/x-python",
   "name": "python",
   "nbconvert_exporter": "python",
   "pygments_lexer": "ipython3",
   "version": "3.8.17"
  },
  "orig_nbformat": 4
 },
 "nbformat": 4,
 "nbformat_minor": 2
}
