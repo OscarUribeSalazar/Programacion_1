{
 "cells": [
  {
   "cell_type": "markdown",
   "metadata": {},
   "source": [
    "## Desfío 1: Palíndromos"
   ]
  },
  {
   "cell_type": "code",
   "execution_count": 3,
   "metadata": {},
   "outputs": [
    {
     "name": "stdout",
     "output_type": "stream",
     "text": [
      "-----------DESAFÍO 1-------------\n",
      "Bienvenido, al programa buscador de Palíndromos\n",
      "Felicidades, la palabra o oración ingresada es un Palíndromo\n",
      "Original: PASAP Al revez: PASAP\n"
     ]
    }
   ],
   "source": [
    "print(\"-----------DESAFÍO 1-------------\")\n",
    "print(\"Bienvenido, al programa buscador de Palíndromos\")\n",
    "palabra = str(input(\"Por favor ingresa una palabra o oración para derminar si es un Palíndromo\"))\n",
    "\n",
    "palabra_min = palabra.lower()\n",
    "palabra_split = palabra_min.split()\n",
    "palabra_join = \"\".join(palabra_split)\n",
    "palabra_alrevez = palabra_min[::-1]\n",
    "palabra_alrevez_split = palabra_alrevez.split()\n",
    "palabra_alrevez_join = \"\".join(palabra_alrevez_split)\n",
    "\n",
    "if palabra_join == palabra_alrevez_join:\n",
    "    print(\"Felicidades, la palabra o oración ingresada es un Palíndromo\")\n",
    "    print(\"Original:\", palabra.upper(), \"Al revez:\", palabra_alrevez.upper())\n",
    "else:\n",
    "    print(\"Lo siento la palabra que ingresas no es un palindromo, vuelve a intentarlo\")\n",
    "\n"
   ]
  }
 ],
 "metadata": {
  "kernelspec": {
   "display_name": "progra_1",
   "language": "python",
   "name": "python3"
  },
  "language_info": {
   "codemirror_mode": {
    "name": "ipython",
    "version": 3
   },
   "file_extension": ".py",
   "mimetype": "text/x-python",
   "name": "python",
   "nbconvert_exporter": "python",
   "pygments_lexer": "ipython3",
   "version": "3.8.17"
  },
  "orig_nbformat": 4
 },
 "nbformat": 4,
 "nbformat_minor": 2
}
