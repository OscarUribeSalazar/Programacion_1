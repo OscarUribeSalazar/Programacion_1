{
 "cells": [
  {
   "cell_type": "markdown",
   "metadata": {},
   "source": [
    "# Desafío 3: Administrador de contactos"
   ]
  },
  {
   "cell_type": "markdown",
   "metadata": {},
   "source": [
    "Crea un programa que permita administrar una lista de contactos. Cada contacto deberá tener un nombre, un número de teléfono y una dirección de correo electrónico. El programa deberá ofrecer las siguientes funcionalidades:\n",
    "* Agregar un contacto nuevo\n",
    "* Ver la lista de contactos\n",
    "* Buscar un contacto por nombre\n",
    "* Eliminar un contacto por nombre\n",
    "Usa listas y tuplas para almacenar los contactos y un diccionario para almacenar la información de cada contacto. También deberás crear distintas funciones para cada una de las funcionalidades.\n"
   ]
  },
  {
   "cell_type": "code",
   "execution_count": 29,
   "metadata": {},
   "outputs": [
    {
     "name": "stdout",
     "output_type": "stream",
     "text": [
      "ID: 1, Nombre: JUAN PEREZ, Teléfono: 3315342342, Correo: el_dany_boi@hotmail.com\n",
      "ID: 3, Nombre: SIANTIAGO URIBE, Teléfono: 3312419263, Correo: santi.12@hotmail.com\n"
     ]
    }
   ],
   "source": [
    "contactos = {1:{\n",
    "'Nombre' : 'JUAN PEREZ',\n",
    "'Numero': 3315342342,\n",
    "'Correo': 'el_dany_boi@hotmail.com'\n",
    "},\n",
    "2:{\n",
    "'Nombre' : 'ROSALBA SALAZAR',\n",
    "'Numero': 3310918172,\n",
    "'Correo': 'rosy.2304gmail.com'\n",
    "},\n",
    "3: {\n",
    "'Nombre' : 'SIANTIAGO URIBE',\n",
    "'Numero': 3312419263,\n",
    "'Correo': 'santi.12@hotmail.com'\n",
    "}}\n",
    "\n",
    "Variable = input('¿Qué deseas realizar? Agregar un contaco = add, Ver lista de contactos = contactos, Buscar un contacto = search, Eliminar un contacto = delete, Salir = salir').lower()\n",
    "while Variable != 'salir':\n",
    "    if Variable == 'add':\n",
    "        nombre = input('¿Cuál es el nombre? Ingresa el primer nombre y el primer apeido').upper()\n",
    "        num = int(input('¿Cuál es su número telefonico'))\n",
    "        mail = input('¿Cuál es su dirección de correo').lower()\n",
    "        id = max(contactos.keys()) + 1\n",
    "        \n",
    "        contactos[id] = {\n",
    "        'Nombre' : nombre,\n",
    "        'Numero': num,\n",
    "        'Correo': mail\n",
    "        }\n",
    "    elif Variable == 'contactos':\n",
    "        for id, contacto in contactos.items():\n",
    "            print(f\"ID: {id}, Nombre: {contacto['Nombre']}, Teléfono: {contacto['Numero']}, Correo: {contacto['Correo']}\")\n",
    "\n",
    "    elif Variable == 'search':\n",
    "        search_name = input('¿Cual es el nombre que deseas buscar? Ingresa el primer nombre y el primer apeido').upper()\n",
    "        found = False\n",
    "        for id, contacto in contactos.items():\n",
    "            if search_name in contacto.get('Nombre', ''):\n",
    "                print(f\"ID: {id}, Nombre: {contacto.get('Nombre')}, Teléfono: {contacto.get('Numero')}, Correo: {contacto.get('Correo')}\")\n",
    "                found = True\n",
    "        if not found:\n",
    "            print(\"No Se encontro el contacto seleccinado\")\n",
    "            break\n",
    "    elif Variable == 'delete':\n",
    "        delete_name = input('¿Cual es el contacto que deseas eliminar? Ingresa el primer nombre y el primer apeido').upper()\n",
    "        found = False\n",
    "        for id, contacto in contactos.copy().items():\n",
    "            if delete_name in contacto.get('Nombre', ''):\n",
    "                del contactos[id]\n",
    "                found = True\n",
    "        if not found:\n",
    "            print(\"No Se encontro el contacto seleccinado\")\n",
    "            break\n",
    "   \n",
    "    Variable = input('¿Alguna otra acción que deseas realizar? Agregar un contaco = add, Ver lista de contactos = contactos, Buscar un contacto = search, Eliminar un contacto = delete, Salir = salir',)\n",
    "for id, contacto in contactos.items():\n",
    "    nombre = contacto.get('Nombre', 'N/A')\n",
    "    numero = contacto.get('Numero', 'N/A')\n",
    "    correo = contacto.get('Correo', 'N/A')\n",
    "    print(f\"ID: {id}, Nombre: {nombre}, Teléfono: {numero}, Correo: {correo}\")"
   ]
  }
 ],
 "metadata": {
  "kernelspec": {
   "display_name": "progra_1",
   "language": "python",
   "name": "python3"
  },
  "language_info": {
   "codemirror_mode": {
    "name": "ipython",
    "version": 3
   },
   "file_extension": ".py",
   "mimetype": "text/x-python",
   "name": "python",
   "nbconvert_exporter": "python",
   "pygments_lexer": "ipython3",
   "version": "3.8.17"
  }
 },
 "nbformat": 4,
 "nbformat_minor": 2
}
