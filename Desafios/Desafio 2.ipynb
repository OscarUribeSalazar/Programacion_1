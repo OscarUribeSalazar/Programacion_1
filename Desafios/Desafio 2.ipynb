{
 "cells": [
  {
   "cell_type": "markdown",
   "metadata": {},
   "source": [
    "## Desfío 2: Generador de Histograma"
   ]
  },
  {
   "cell_type": "code",
   "execution_count": 17,
   "metadata": {},
   "outputs": [
    {
     "name": "stdout",
     "output_type": "stream",
     "text": [
      "-----------DESAFÍO 2-------------\n",
      "['23', '23', '12', '45', '21', '42', '12', '43', '12', '53', '1']\n",
      "La lista que has ingresado es ['23', '23', '12', '45', '21', '42', '12', '43', '12', '53', '1']\n",
      "23 |***********************\n",
      "23 |***********************\n",
      "12 |************\n",
      "45 |*********************************************\n",
      "21 |*********************\n",
      "42 |******************************************\n",
      "12 |************\n",
      "43 |*******************************************\n",
      "12 |************\n",
      "53 |*****************************************************\n",
      "1 |*\n"
     ]
    }
   ],
   "source": [
    "print(\"-----------DESAFÍO 2-------------\")\n",
    "num = str(input(\"Introduce una lista de 10 números de dos digitos aleatorios de rango 00 a 99 separados por un espacio\"))\n",
    "\n",
    "numeros = num.split(' ')\n",
    "\n",
    "if len(numeros) >= 10:\n",
    "    print(\"La lista que has ingresado es\", numeros)\n",
    "    for i in range(len(numeros)):\n",
    "        print(numeros[i], \"|\", end=\"\")\n",
    "        for j in range(int(numeros[i])):\n",
    "            print(\"*\", end=\"\") # Imprime un asterisco sin salto de línea\n",
    "        print(\"\") #Imprime un salto de línea después de cada fila de asteriscos\n",
    "else:\n",
    "    print(\"Recuerda ingresar una lista de 10 números\")"
   ]
  }
 ],
 "metadata": {
  "kernelspec": {
   "display_name": "progra_1",
   "language": "python",
   "name": "python3"
  },
  "language_info": {
   "codemirror_mode": {
    "name": "ipython",
    "version": 3
   },
   "file_extension": ".py",
   "mimetype": "text/x-python",
   "name": "python",
   "nbconvert_exporter": "python",
   "pygments_lexer": "ipython3",
   "version": "3.8.17"
  },
  "orig_nbformat": 4
 },
 "nbformat": 4,
 "nbformat_minor": 2
}
