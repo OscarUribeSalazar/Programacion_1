{
 "cells": [
  {
   "cell_type": "markdown",
   "metadata": {},
   "source": [
    "# Desafío 4: Implementación de Funciones map, filter, y reduce Propias"
   ]
  },
  {
   "cell_type": "markdown",
   "metadata": {},
   "source": [
    "## 4.1 Map"
   ]
  },
  {
   "cell_type": "markdown",
   "metadata": {},
   "source": [
    "**Info**\n",
    "\n",
    "El uso de map aplica una determinada función a todos los elementos de una entrada o lista. Esta es su forma:\n",
    "\n",
    "map(funcion_a_aplicar, lista_de_entradas)"
   ]
  },
  {
   "cell_type": "markdown",
   "metadata": {},
   "source": [
    "Se trata de un caso de uso bastante recurrente. Imaginemos por ejemplo que tenemos una lista y queremos crear otra lista con todos sus elementos elevados al cuadrado. La primera forma que tal vez se nos ocurra, sería la siguiente:"
   ]
  },
  {
   "cell_type": "code",
   "execution_count": 3,
   "metadata": {},
   "outputs": [
    {
     "data": {
      "text/plain": [
       "[1, 4, 9, 16, 25]"
      ]
     },
     "execution_count": 3,
     "metadata": {},
     "output_type": "execute_result"
    }
   ],
   "source": [
    "lista = [1, 2, 3, 4, 5]\n",
    "al_cuadrado = []\n",
    "for i in lista:\n",
    "    al_cuadrado.append(i**2)\n",
    "\n",
    "al_cuadrado"
   ]
  },
  {
   "cell_type": "markdown",
   "metadata": {},
   "source": [
    "Sin embargo, existe una forma más fácil de hacerlo con map. Es mucho más sencilla y corta:"
   ]
  },
  {
   "cell_type": "code",
   "execution_count": 5,
   "metadata": {},
   "outputs": [
    {
     "data": {
      "text/plain": [
       "[1, 4, 9, 16, 25]"
      ]
     },
     "execution_count": 5,
     "metadata": {},
     "output_type": "execute_result"
    }
   ],
   "source": [
    "lista = [1, 2, 3, 4, 5]\n",
    "al_cuadrado = list(map(lambda x: x**2, lista))\n",
    "\n",
    "al_cuadrado"
   ]
  },
  {
   "cell_type": "markdown",
   "metadata": {},
   "source": [
    "Otra forma de usar map es teniendo una lista de funciones en vez de una en concreto. Veamos un ejemplo:"
   ]
  },
  {
   "cell_type": "code",
   "execution_count": 7,
   "metadata": {},
   "outputs": [
    {
     "name": "stdout",
     "output_type": "stream",
     "text": [
      "[0, 0]\n",
      "[1, 2]\n",
      "[4, 4]\n",
      "[9, 6]\n",
      "[16, 8]\n"
     ]
    }
   ],
   "source": [
    "def multiplicar(x):\n",
    "    return (x*x)\n",
    "def sumar(x):\n",
    "    return (x+x)\n",
    "\n",
    "funcs = [multiplicar, sumar]\n",
    "for i in range(5):\n",
    "    valor = list(map(lambda x: x(i), funcs))\n",
    "    print(valor)"
   ]
  },
  {
   "cell_type": "markdown",
   "metadata": {},
   "source": [
    "Se puede ver como ahora para cada elemento (del 0 al 4) tenemos dos salida, la primera aplica la función multiplicar y la segunda sumar.\n",
    "\n"
   ]
  },
  {
   "cell_type": "markdown",
   "metadata": {},
   "source": [
    "**Función Map**"
   ]
  },
  {
   "cell_type": "code",
   "execution_count": 29,
   "metadata": {},
   "outputs": [
    {
     "name": "stdout",
     "output_type": "stream",
     "text": [
      "Juan que trabaja como Director tiene un salario de 77250.0 Pesos\n",
      "Ana que trabaja como Presidenta tiene un salario de 92700.0 Pesos\n",
      "Luis que trabaja como Compras tiene un salario de 7210.0 Pesos\n",
      "Sara que trabaja como Administradora tiene un salario de 15450.0 Pesos\n",
      "Mario que trabaja como Alamacen tiene un salario de 20600.0 Pesos\n"
     ]
    }
   ],
   "source": [
    "class Empleado: # Se crea la clase Empleado para almacenar\n",
    "    def __init__(self, nombre, cargo, salario): #Pide que le ingreses un Empleado con su nombre, cargo y salario\n",
    "        self.nombre=nombre\n",
    "        self.cargo=cargo\n",
    "        self.salario=salario\n",
    "    \n",
    "    def __str__(self): #Imprime el resultado\n",
    "        return \"{} que trabaja como {} tiene un salario de {} Pesos\".format(self.nombre, self.cargo, self.salario)\n",
    "\n",
    "lista_empleados = [ # Creación de empleados\n",
    "\n",
    "    Empleado(\"Juan\", \"Director\", 75000),\n",
    "    Empleado(\"Ana\", \"Presidenta\", 90000),\n",
    "    Empleado(\"Luis\", \"Compras\", 7000),\n",
    "    Empleado(\"Sara\", \"Administradora\", 15000),\n",
    "    Empleado(\"Mario\", \"Alamacen\", 20000),\n",
    "]\n",
    "\n",
    "\n",
    "def calculo_comision(empleado): # Funcion para iterar en cada elemento de la lista de empleados en donde se le suma su salario más comisión\n",
    "    empleado.salario = empleado.salario*1.03\n",
    "    return empleado\n",
    "\n",
    "salarios_mas_comision = map(calculo_comision, lista_empleados) #Funcion Map para cada elemento de la lista Empleados le aplicará la función calculo_comisión y lo ira guardando en otra lista\n",
    "\n",
    "for empleado in salarios_mas_comision: #Extrae la información de la Lista Empleados creadas con su clase\n",
    "    print(empleado)"
   ]
  },
  {
   "cell_type": "markdown",
   "metadata": {},
   "source": [
    "## 4.2 Filter"
   ]
  },
  {
   "cell_type": "markdown",
   "metadata": {},
   "source": [
    "**Info:**\n",
    "\n",
    "Como su nombre indica, filter crea una lista de elementos si usados en la llamada a una función devuelven True. Es decir, filtra los elementos de una lista usando un determinado criterio. Veamos un ejemplo:"
   ]
  },
  {
   "cell_type": "code",
   "execution_count": 20,
   "metadata": {},
   "outputs": [
    {
     "name": "stdout",
     "output_type": "stream",
     "text": [
      "[-5, -4, -3, -2, -1]\n"
     ]
    }
   ],
   "source": [
    "lista = range(-5, 5)\n",
    "menor_cero = list(filter(lambda x: x < 0, lista)) #Filtra todos los elementos x en la lista que sean menores que 0\n",
    "print(menor_cero)\n",
    "\n",
    "# Salida: [-5, -4, -3, -2, -1]"
   ]
  },
  {
   "cell_type": "markdown",
   "metadata": {},
   "source": [
    "La función filter es similar a un bucle, y de hecho podríamos conseguir lo mismo con un bucle y un if, pero su uso es más rápido."
   ]
  },
  {
   "cell_type": "markdown",
   "metadata": {},
   "source": [
    "**Funcion Filter**"
   ]
  },
  {
   "cell_type": "code",
   "execution_count": 31,
   "metadata": {},
   "outputs": [
    {
     "name": "stdout",
     "output_type": "stream",
     "text": [
      "Juan que trabaja como Director tiene un salario de 77250.0 Pesos\n",
      "Ana que trabaja como Presidenta tiene un salario de 92700.0 Pesos\n"
     ]
    }
   ],
   "source": [
    "#Con la clase y la lista de empleados creada en la sección de map realizaremos una función filter para filtrar todos los salarios que sean mayores a 70,000\n",
    "\n",
    "salarios_altos = filter(lambda empleado:empleado.salario >= 70000, lista_empleados) #Creación de la lista con los empleados que ganen más de 70,000 mil de la lista de empleados original.\n",
    "\n",
    "for empleado_salario in salarios_altos: #Extrae la información\n",
    "    print(empleado_salario)\n"
   ]
  },
  {
   "cell_type": "markdown",
   "metadata": {},
   "source": [
    "## 4.3 Reduce"
   ]
  },
  {
   "cell_type": "markdown",
   "metadata": {},
   "source": [
    "**Info:**\n",
    "\n",
    "Por último, reduce es muy útil cuando queremos realizar ciertas operaciones sobre una lista y devolver su resultado. Por ejemplo, si queremos calcular el producto de todos los elementos de una lista, y devolver un único valor, podríamos hacerlo de la siguiente forma sin usar reduce."
   ]
  },
  {
   "cell_type": "code",
   "execution_count": 33,
   "metadata": {},
   "outputs": [
    {
     "data": {
      "text/plain": [
       "24"
      ]
     },
     "execution_count": 33,
     "metadata": {},
     "output_type": "execute_result"
    }
   ],
   "source": [
    "producto = 1\n",
    "lista = [1, 2, 3, 4]\n",
    "for num in lista:\n",
    "    producto = producto * num\n",
    "\n",
    "producto"
   ]
  },
  {
   "cell_type": "markdown",
   "metadata": {},
   "source": [
    "Ahora vamos a hacerlo con reduce."
   ]
  },
  {
   "cell_type": "code",
   "execution_count": 35,
   "metadata": {},
   "outputs": [
    {
     "data": {
      "text/plain": [
       "24"
      ]
     },
     "execution_count": 35,
     "metadata": {},
     "output_type": "execute_result"
    }
   ],
   "source": [
    "from functools import reduce\n",
    "lista = [1, 2, 3, 4]\n",
    "producto = reduce((lambda x, y: x * y), lista)\n",
    "producto\n",
    "\n",
    "# Salida: 24"
   ]
  },
  {
   "cell_type": "markdown",
   "metadata": {},
   "source": [
    "**Funcion reduce**"
   ]
  },
  {
   "cell_type": "code",
   "execution_count": 39,
   "metadata": {},
   "outputs": [
    {
     "data": {
      "text/plain": [
       "120"
      ]
     },
     "execution_count": 39,
     "metadata": {},
     "output_type": "execute_result"
    }
   ],
   "source": [
    "#La función Reduce, reduce los elementos de una lista y los une en una sola variable\n",
    "lista = [1, 2, 3, 4, 5]\n",
    "\n",
    "def multiplicar(a,b):\n",
    "    return a*b\n",
    "\n",
    "list = reduce(multiplicar, lista) # Va multiplicando cada elemento de la lista entre si y lo va sumando a un solo valor o reduciendo\n",
    "'''\n",
    "Lo que va haciendo es toma el elemento 1 y lo multiplica por 2, el resultado de esa multiplicación que es 2 lo multiplica por el siguiente elemento que es 3 y da 6.\n",
    "luego 6 x 4 que da 24 y 25 x 5 que da 120\n",
    "'''\n",
    "list"
   ]
  },
  {
   "cell_type": "code",
   "execution_count": 41,
   "metadata": {},
   "outputs": [
    {
     "data": {
      "text/plain": [
       "'PONGAME 10'"
      ]
     },
     "execution_count": 41,
     "metadata": {},
     "output_type": "execute_result"
    }
   ],
   "source": [
    "#La función Reduce, reduce los elementos de una lista y los une en una sola variable\n",
    "letras = [\"P\",\"O\",\"N\",\"G\",\"A\",\"M\",\"E\",\" \",\"10\"]\n",
    "\n",
    "def concact(a,b):\n",
    "    return a+b\n",
    "\n",
    "palabra = reduce(concact, letras)  #Toma como argumento una función y una lista\n",
    "'''\n",
    "Lo que va haciendo es toma el elemento 1 de la lista que es \"a\" y lo suma con el siguiente elemento que es \"O\" luego toma el siguiente elemento que es \"N\" y lo suma\n",
    "y así consecutivamente\n",
    "'''\n",
    "palabra"
   ]
  }
 ],
 "metadata": {
  "kernelspec": {
   "display_name": "progra_1",
   "language": "python",
   "name": "python3"
  },
  "language_info": {
   "codemirror_mode": {
    "name": "ipython",
    "version": 3
   },
   "file_extension": ".py",
   "mimetype": "text/x-python",
   "name": "python",
   "nbconvert_exporter": "python",
   "pygments_lexer": "ipython3",
   "version": "3.8.17"
  }
 },
 "nbformat": 4,
 "nbformat_minor": 2
}
