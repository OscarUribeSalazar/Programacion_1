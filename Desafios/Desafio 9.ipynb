{
 "cells": [
  {
   "cell_type": "markdown",
   "metadata": {},
   "source": [
    "# Desafío 9: Identificación y Corrección de un Error de Tipo"
   ]
  },
  {
   "cell_type": "markdown",
   "metadata": {},
   "source": [
    "En el siguiente script, se te da una función que toma una lista de strings y concatena todos los strings en una sola cadena. Sin embargo, si se le pasa una lista que contiene elementos no-string, fallará con un TypeError. Tu tarea es depurar el script y modificarlo para que funcione correctamente con listas que contienen diferentes tipos de elementos.\n"
   ]
  },
  {
   "cell_type": "code",
   "execution_count": 1,
   "metadata": {},
   "outputs": [
    {
     "name": "stdout",
     "output_type": "stream",
     "text": [
      "TypeError: can only concatenate str (not \"int\") to str\n"
     ]
    }
   ],
   "source": [
    "def concatenate_list_of_strings(string_list):\n",
    "    # Esta función fallará si encuentra un no-string en la lista\n",
    "    concatenated_string = \"\"\n",
    "    for item in string_list:\n",
    "        concatenated_string += item  # Esto provocará TypeError si item no es un string\n",
    "    return concatenated_string\n",
    "\n",
    "# Lista de prueba con diferentes tipos de elementos\n",
    "mixed_list = [\"hello\", \"world\", 123, True, \"!\", 42.0]\n",
    "\n",
    "# Intento de concatenar la lista\n",
    "try:\n",
    "    result = concatenate_list_of_strings(mixed_list)\n",
    "    print(\"Concatenated Result:\", result)\n",
    "except TypeError as e:\n",
    "    print(\"TypeError:\", e)\n",
    "\n"
   ]
  },
  {
   "cell_type": "markdown",
   "metadata": {},
   "source": [
    "**Script Corregido**"
   ]
  },
  {
   "cell_type": "code",
   "execution_count": 8,
   "metadata": {},
   "outputs": [
    {
     "name": "stdout",
     "output_type": "stream",
     "text": [
      "Concatenated Result: helloworld123True!42.0\n"
     ]
    }
   ],
   "source": [
    "def concatenate_list_of_strings(string_list):\n",
    "    # Esta función fallará si encuentra un no-string en la lista\n",
    "    concatenated_string = \"\"\n",
    "    for item in string_list:\n",
    "        concatenated_string += item  # Esto provocará TypeError si item no es un string\n",
    "    return concatenated_string\n",
    "\n",
    "# Lista de prueba con diferentes tipos de elementos\n",
    "mixed_list = [\"hello\", \"world\", 123, True, \"!\", 42.0]\n",
    "\n",
    "mixed_list_str = []\n",
    "for i in range(len(mixed_list)):\n",
    "   mixed_list_str.append(str(mixed_list[i]))\n",
    "\n",
    "# Intento de concatenar la lista\n",
    "try:\n",
    "    result = concatenate_list_of_strings(mixed_list_str)\n",
    "    print(\"Concatenated Result:\", result)\n",
    "except TypeError as e:\n",
    "    print(\"TypeError:\", e)\n"
   ]
  }
 ],
 "metadata": {
  "kernelspec": {
   "display_name": "progra_1",
   "language": "python",
   "name": "python3"
  },
  "language_info": {
   "codemirror_mode": {
    "name": "ipython",
    "version": 3
   },
   "file_extension": ".py",
   "mimetype": "text/x-python",
   "name": "python",
   "nbconvert_exporter": "python",
   "pygments_lexer": "ipython3",
   "version": "3.8.17"
  }
 },
 "nbformat": 4,
 "nbformat_minor": 2
}
