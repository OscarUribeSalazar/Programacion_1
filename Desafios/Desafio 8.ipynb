{
 "cells": [
  {
   "cell_type": "markdown",
   "metadata": {},
   "source": [
    "# Desafío 8: Debugging de un Script de Ordenación"
   ]
  },
  {
   "cell_type": "markdown",
   "metadata": {},
   "source": [
    "Se te ha dado un script que supuestamente ordena una lista de números en orden ascendente, pero algo está mal y no funciona como debería. Tu tarea es depurar el script y hacer que funcione correctamente.\n"
   ]
  },
  {
   "cell_type": "code",
   "execution_count": 1,
   "metadata": {},
   "outputs": [
    {
     "name": "stdout",
     "output_type": "stream",
     "text": [
      "Sorted list (with error): [1, 1, 1, 1, 2, 2, 2, 3, 3, 3, 5]\n"
     ]
    }
   ],
   "source": [
    "def sort_list_bad(numbers):\n",
    "    for i in range(len(numbers)):\n",
    "        for j in range(i + 1, len(numbers)):\n",
    "            if numbers[i] > numbers[j]:\n",
    "                # Aquí hay un error en la lógica de intercambio\n",
    "                temp = numbers[i]\n",
    "                numbers[i] = numbers[j]  # Este debería ser numbers[j] = temp\n",
    "    return numbers\n",
    "\n",
    "# Lista de prueba\n",
    "test_list = [3, 1, 4, 1, 5, 9, 2, 6, 5, 3, 5]\n",
    "# Intenta ordenar la lista\n",
    "sorted_list = sort_list_bad(test_list)\n",
    "print(\"Sorted list (with error):\", sorted_list)\n"
   ]
  },
  {
   "cell_type": "markdown",
   "metadata": {},
   "source": [
    "**Script Corregido**"
   ]
  },
  {
   "cell_type": "code",
   "execution_count": 11,
   "metadata": {},
   "outputs": [
    {
     "name": "stdout",
     "output_type": "stream",
     "text": [
      "Sorted list (with error): [1, 1, 2, 3, 3, 4, 5, 5, 5, 6, 9]\n"
     ]
    }
   ],
   "source": [
    "def sort_list_bad(numbers):\n",
    "    for i in range(len(numbers)): #Toma la lista de variables\n",
    "        for j in range(i + 1, len(numbers)): #toma la lista de variables a comparar con i\n",
    "            if numbers[i] > numbers[j]: #Valida si el número i es mas grande que el número j\n",
    "                numbers[i], numbers[j] = numbers[j], numbers[i] # El valor en la posición j se asigna a la posición i, y el valor en la posición i se asigna a la posición j.\n",
    "    return numbers\n",
    "\n",
    "# Lista de prueba\n",
    "test_list = [3, 1, 4, 1, 5, 9, 2, 6, 5, 3, 5]\n",
    "# Intenta ordenar la lista\n",
    "sorted_list = sort_list_bad(test_list)\n",
    "print(\"Sorted list (with error):\", sorted_list)\n"
   ]
  }
 ],
 "metadata": {
  "kernelspec": {
   "display_name": "progra_1",
   "language": "python",
   "name": "python3"
  },
  "language_info": {
   "codemirror_mode": {
    "name": "ipython",
    "version": 3
   },
   "file_extension": ".py",
   "mimetype": "text/x-python",
   "name": "python",
   "nbconvert_exporter": "python",
   "pygments_lexer": "ipython3",
   "version": "3.8.17"
  }
 },
 "nbformat": 4,
 "nbformat_minor": 2
}
