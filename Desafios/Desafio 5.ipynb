{
 "cells": [
  {
   "cell_type": "markdown",
   "metadata": {},
   "source": [
    "# Desafío 5: Composición de Funciones"
   ]
  },
  {
   "cell_type": "markdown",
   "metadata": {},
   "source": [
    "Crea una función componer que tome una lista de funciones y retorne una nueva función que represente la composición de las funciones originales. La composición de funciones es una operación donde el resultado de una función se utiliza como el argumento de la siguiente."
   ]
  },
  {
   "cell_type": "code",
   "execution_count": 40,
   "metadata": {},
   "outputs": [
    {
     "name": "stdout",
     "output_type": "stream",
     "text": [
      "-24654\n"
     ]
    }
   ],
   "source": [
    "#Magia con números\n",
    "'''\n",
    "Pídele que escriba sin verlo tú el mes de su nacimiento (enero 1,\n",
    "diciembre 12) y que lo multiplique por 2, al resultado tiene que sumarle\n",
    "5. A continuación hazle multiplicar su último resultado por 50 y añadir su\n",
    "edad. Seguidamente debe sumar 115 y restar al total obtenido 365, que\n",
    "son los días que tiene el año. Por último pide que te diga el resultado: un\n",
    "número o dos de la derecha de esa cantidad indicará la edad, los\n",
    "demás el mes.\n",
    "'''\n",
    "mes = int(input('¿Cuál es tu mes de nacimiento? (1 al 12): '))\n",
    "edad = int(input('¿Cuál es tu edad?: '))\n",
    "\n",
    "def composicion_funciones(f, g, h, i, j):\n",
    "    return lambda x: f(g(h(i(j(x)))))\n",
    "\n",
    "def multiplicar(x):\n",
    "    return x * 2\n",
    "\n",
    "def sumar(x):\n",
    "    return x + 5\n",
    "\n",
    "def multiplicar2(x):\n",
    "    return x * 50 + edad\n",
    "\n",
    "def sumar2(x):\n",
    "    return x + 115\n",
    "\n",
    "def resta(x):\n",
    "    return x - 365\n",
    "\n",
    "magia_con_numeros = composicion_funciones(multiplicar, sumar, multiplicar2, sumar2, resta)\n",
    "\n",
    "numero = magia_con_numeros(mes)\n",
    "print(numero)"
   ]
  }
 ],
 "metadata": {
  "kernelspec": {
   "display_name": "progra_1",
   "language": "python",
   "name": "python3"
  },
  "language_info": {
   "codemirror_mode": {
    "name": "ipython",
    "version": 3
   },
   "file_extension": ".py",
   "mimetype": "text/x-python",
   "name": "python",
   "nbconvert_exporter": "python",
   "pygments_lexer": "ipython3",
   "version": "3.8.17"
  }
 },
 "nbformat": 4,
 "nbformat_minor": 2
}
