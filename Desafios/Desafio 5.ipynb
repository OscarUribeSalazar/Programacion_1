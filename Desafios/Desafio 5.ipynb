{
 "cells": [
  {
   "cell_type": "markdown",
   "metadata": {},
   "source": [
    "# Desafío 5: Composición de Funciones"
   ]
  },
  {
   "cell_type": "markdown",
   "metadata": {},
   "source": [
    "Crea una función componer que tome una lista de funciones y retorne una nueva función que represente la composición de las funciones originales. La composición de funciones es una operación donde el resultado de una función se utiliza como el argumento de la siguiente."
   ]
  },
  {
   "cell_type": "code",
   "execution_count": 15,
   "metadata": {},
   "outputs": [
    {
     "name": "stdout",
     "output_type": "stream",
     "text": [
      "El Número 12 que elegiste primero se sumó 3, luego se multiplicó por 2, luego se le restó 8, luego se dividió por 2, luego se sumó 1 y de resultado te dio el mismo número: 15\n"
     ]
    }
   ],
   "source": [
    "#Magia con números\n",
    "\n",
    "numero = int(input('Escribe un Número: '))\n",
    "def composicion_funciones(f, g, h, i, j):\n",
    "    return lambda x: f(g(h(i(j(x)))))\n",
    "def sumar2(x):\n",
    "    return x + 1\n",
    "\n",
    "def dividir(x):\n",
    "    return x / 2\n",
    "\n",
    "def resta(x):\n",
    "    return x - 8\n",
    "\n",
    "def multiplicar(x):\n",
    "    return x * 2\n",
    "\n",
    "def sumar(x):\n",
    "    return x + 3\n",
    "\n",
    "magia_con_numeros = composicion_funciones(sumar2, dividir, resta, multiplicar, sumar)\n",
    "\n",
    "numero2 = magia_con_numeros(numero)\n",
    "print(f\"El Número {numero} que elegiste primero se sumo 3, luego se multiplico por 2, luego se le resto 8, luego se dividió por 2, luego se la sumo 1 y de resultado te dio el mismo número: {numero2}\")"
   ]
  }
 ],
 "metadata": {
  "kernelspec": {
   "display_name": "progra_1",
   "language": "python",
   "name": "python3"
  },
  "language_info": {
   "codemirror_mode": {
    "name": "ipython",
    "version": 3
   },
   "file_extension": ".py",
   "mimetype": "text/x-python",
   "name": "python",
   "nbconvert_exporter": "python",
   "pygments_lexer": "ipython3",
   "version": "3.8.17"
  }
 },
 "nbformat": 4,
 "nbformat_minor": 2
}
