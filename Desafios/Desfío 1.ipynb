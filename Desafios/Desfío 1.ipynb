{
 "cells": [
  {
   "cell_type": "markdown",
   "metadata": {},
   "source": [
    "## Desfío 1: Palíndromos\n",
    "\n"
   ]
  },
  {
   "cell_type": "code",
   "execution_count": null,
   "metadata": {},
   "outputs": [],
   "source": [
    "print(\"-----------DESAFÍO 1-------------\")\n",
    "print(\"Bienvenido, al programa buscador de Palíndromos\")\n",
    "palabra = str(input(\"Por favor ingresa una palabra para derminar si es un Palíndromo\"))\n",
    "\n",
    "palabra_min = palabra.lower()\n",
    "palabra_alrevez = palabra_min[::-1]\n",
    "\n",
    "if palabra_min == palabra_alrevez:\n",
    "    print(\"Felicidades, la palabra ingresada es un Palíndromo\")\n",
    "    print(\"Original:\", palabra.upper(), \"Al revez:\", palabra_alrevez.upper())\n",
    "else:\n",
    "    print(\"Lo siento la palabra que ingresas no es un palindromo, vuelve a intentarlo\")\n",
    "\n"
   ]
  }
 ],
 "metadata": {
  "kernelspec": {
   "display_name": "progra_1",
   "language": "python",
   "name": "python3"
  },
  "language_info": {
   "codemirror_mode": {
    "name": "ipython",
    "version": 3
   },
   "file_extension": ".py",
   "mimetype": "text/x-python",
   "name": "python",
   "nbconvert_exporter": "python",
   "pygments_lexer": "ipython3",
   "version": "3.8.17"
  },
  "orig_nbformat": 4
 },
 "nbformat": 4,
 "nbformat_minor": 2
}
