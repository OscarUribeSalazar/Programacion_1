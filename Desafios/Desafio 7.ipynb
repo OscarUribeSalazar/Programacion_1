{
 "cells": [
  {
   "cell_type": "markdown",
   "metadata": {},
   "source": [
    "# Desafío 7: Copia de archivos con filtrado"
   ]
  },
  {
   "cell_type": "markdown",
   "metadata": {},
   "source": [
    "Crea un script que copie un archivo a otro, pero que excluya todas las líneas que contengan una palabra prohibida especificada por el usuario.\n",
    "\n",
    "Copia el siguiente texto y graba un archivo.txt\n",
    "\n",
    "“El reto de hoy nos lleva al corazón de la gestión de archivos y la manipulación de texto con un toque de personalización. En un mundo inundado de datos, a menudo nos encontramos en la necesidad de filtrar y refinar la información que fluye a través de nuestros documentos digitales. Ya sea que estés depurando logs, limpiando datos o simplemente organizando tu contenido, la habilidad para excluir información irrelevante es esencial. Imagínate en el rol de un archivista digital cuyo objetivo es preservar la integridad de un texto limpio y puro. Tu misión es transferir preciosos datos de un archivo a otro, pero con una advertencia crucial: debes dejar atrás todas aquellas palabras que no sean dignas de ser trasladadas. Estas palabras prohibidas son como manchas en un lienzo de otro modo inmaculado, y es tu trabajo asegurarte de que no mancillen el nuevo destino del texto. En esta tarea, no sólo pondrás a prueba tus habilidades de programación, sino también tu capacidad para ofrecer soluciones personalizadas que respondan a las necesidades específicas del usuario. El script que crearás actúa como un filtro inteligente, un guardián que distingue entre lo que debe ser conservado y lo que debe ser descartado. Para superar este desafío, deberás escribir un script que pregunte al usuario por esa palabra non grata y proceda meticulosamente a copiar el archivo fuente línea por línea, omitiendo aquellas que contienen el término prohibido. Esta tarea no sólo es un ejercicio de codificación, sino también una lección en la creación de herramientas personalizables que empoderan al usuario para que tome el control de su información. ¿Estás listo para tomar la responsabilidad de este poder de filtrado y ejecutar la tarea con la precisión de un experto? Prepárate para sumergirte en el código y tejer un programa que no sólo copia texto, sino que también imparte justicia a las palabras, permitiendo sólo a las más deseables pasar a través de sus puertas.”\n",
    "\n"
   ]
  },
  {
   "cell_type": "markdown",
   "metadata": {},
   "source": [
    "**Guardar El texto en un archivo .txt**"
   ]
  },
  {
   "cell_type": "code",
   "execution_count": 12,
   "metadata": {},
   "outputs": [
    {
     "name": "stdout",
     "output_type": "stream",
     "text": [
      "\n",
      "“El reto de hoy nos lleva al corazón de la gestión de archivos y la manipulación de texto con un toque de\n",
      "personalización. En un mundo inundado de datos, a menudo nos encontramos en la necesidad de\n",
      "filtrar y refinar la información que fluye a través de nuestros documentos digitales. Ya sea que estés\n",
      "depurando logs, limpiando datos o simplemente organizando tu contenido, la habilidad para excluir\n",
      "información irrelevante es esencial. Imagínate en el rol de un archivista digital cuyo objetivo es\n",
      "preservar la integridad de un texto limpio y puro. Tu misión es transferir preciosos datos de un archivo a\n",
      "otro, pero con una advertencia crucial: debes dejar atrás todas aquellas palabras que no sean dignas de\n",
      "ser trasladadas. Estas palabras prohibidas son como manchas en un lienzo de otro modo inmaculado, y\n",
      "es tu trabajo asegurarte de que no mancillen el nuevo destino del texto. En esta tarea, no sólo pondrás a\n",
      "prueba tus habilidades de programación, sino también tu capacidad para ofrecer soluciones\n",
      "personalizadas que respondan a las necesidades específicas del usuario. El script que crearás actúa\n",
      "como un filtro inteligente, un guardián que distingue entre lo que debe ser conservado y lo que debe\n",
      "ser descartado. Para superar este desafío, deberás escribir un script que pregunte al usuario por esa\n",
      "palabra non grata y proceda meticulosamente a copiar el archivo fuente línea por línea, omitiendo\n",
      "aquellas que contienen el término prohibido. Esta tarea no sólo es un ejercicio de codificación, sino\n",
      "también una lección en la creación de herramientas personalizables que empoderan al usuario para\n",
      "que tome el control de su información. ¿Estás listo para tomar la responsabilidad de este poder de\n",
      "filtrado y ejecutar la tarea con la precisión de un experto? Prepárate para sumergirte en el código y tejer\n",
      "un programa que no sólo copia texto, sino que también imparte justicia a las palabras, permitiendo sólo\n",
      "a las más deseables pasar a través de sus puertas.”\n",
      "\n"
     ]
    }
   ],
   "source": [
    "import os      \n",
    "\n",
    "ruta_carpeta = r\"C:\\Users\\el_da\\Programación 1\\Programacion_1\"\n",
    "\n",
    "texto = '''\n",
    "“El reto de hoy nos lleva al corazón de la gestión de archivos y la manipulación de texto con un toque de\n",
    "personalización. En un mundo inundado de datos, a menudo nos encontramos en la necesidad de\n",
    "filtrar y refinar la información que fluye a través de nuestros documentos digitales. Ya sea que estés\n",
    "depurando logs, limpiando datos o simplemente organizando tu contenido, la habilidad para excluir\n",
    "información irrelevante es esencial. Imagínate en el rol de un archivista digital cuyo objetivo es\n",
    "preservar la integridad de un texto limpio y puro. Tu misión es transferir preciosos datos de un archivo a\n",
    "otro, pero con una advertencia crucial: debes dejar atrás todas aquellas palabras que no sean dignas de\n",
    "ser trasladadas. Estas palabras prohibidas son como manchas en un lienzo de otro modo inmaculado, y\n",
    "es tu trabajo asegurarte de que no mancillen el nuevo destino del texto. En esta tarea, no sólo pondrás a\n",
    "prueba tus habilidades de programación, sino también tu capacidad para ofrecer soluciones\n",
    "personalizadas que respondan a las necesidades específicas del usuario. El script que crearás actúa\n",
    "como un filtro inteligente, un guardián que distingue entre lo que debe ser conservado y lo que debe\n",
    "ser descartado. Para superar este desafío, deberás escribir un script que pregunte al usuario por esa\n",
    "palabra non grata y proceda meticulosamente a copiar el archivo fuente línea por línea, omitiendo\n",
    "aquellas que contienen el término prohibido. Esta tarea no sólo es un ejercicio de codificación, sino\n",
    "también una lección en la creación de herramientas personalizables que empoderan al usuario para\n",
    "que tome el control de su información. ¿Estás listo para tomar la responsabilidad de este poder de\n",
    "filtrado y ejecutar la tarea con la precisión de un experto? Prepárate para sumergirte en el código y tejer\n",
    "un programa que no sólo copia texto, sino que también imparte justicia a las palabras, permitiendo sólo\n",
    "a las más deseables pasar a través de sus puertas.”\n",
    "'''\n",
    "\n",
    "ruta = os.path.join(ruta_carpeta, \"texto_desafio7.txt\")\n",
    "\n",
    "with open(ruta, 'w') as f:\n",
    "    f.write(texto)\n",
    "\n",
    "with open(ruta, 'r') as archivo:\n",
    "    contenido = archivo.read()\n",
    "    print(contenido)\n"
   ]
  },
  {
   "cell_type": "markdown",
   "metadata": {},
   "source": [
    "**Separa el Texto en Líneas**"
   ]
  },
  {
   "cell_type": "code",
   "execution_count": 18,
   "metadata": {},
   "outputs": [
    {
     "data": {
      "text/plain": [
       "['',\n",
       " '“El reto de hoy nos lleva al corazón de la gestión de archivos y la manipulación de texto con un toque de',\n",
       " 'personalización. En un mundo inundado de datos, a menudo nos encontramos en la necesidad de',\n",
       " 'filtrar y refinar la información que fluye a través de nuestros documentos digitales. Ya sea que estés',\n",
       " 'depurando logs, limpiando datos o simplemente organizando tu contenido, la habilidad para excluir',\n",
       " 'información irrelevante es esencial. Imagínate en el rol de un archivista digital cuyo objetivo es',\n",
       " 'preservar la integridad de un texto limpio y puro. Tu misión es transferir preciosos datos de un archivo a',\n",
       " 'otro, pero con una advertencia crucial: debes dejar atrás todas aquellas palabras que no sean dignas de',\n",
       " 'ser trasladadas. Estas palabras prohibidas son como manchas en un lienzo de otro modo inmaculado, y',\n",
       " 'es tu trabajo asegurarte de que no mancillen el nuevo destino del texto. En esta tarea, no sólo pondrás a',\n",
       " 'prueba tus habilidades de programación, sino también tu capacidad para ofrecer soluciones',\n",
       " 'personalizadas que respondan a las necesidades específicas del usuario. El script que crearás actúa',\n",
       " 'como un filtro inteligente, un guardián que distingue entre lo que debe ser conservado y lo que debe',\n",
       " 'ser descartado. Para superar este desafío, deberás escribir un script que pregunte al usuario por esa',\n",
       " 'palabra non grata y proceda meticulosamente a copiar el archivo fuente línea por línea, omitiendo',\n",
       " 'aquellas que contienen el término prohibido. Esta tarea no sólo es un ejercicio de codificación, sino',\n",
       " 'también una lección en la creación de herramientas personalizables que empoderan al usuario para',\n",
       " 'que tome el control de su información. ¿Estás listo para tomar la responsabilidad de este poder de',\n",
       " 'filtrado y ejecutar la tarea con la precisión de un experto? Prepárate para sumergirte en el código y tejer',\n",
       " 'un programa que no sólo copia texto, sino que también imparte justicia a las palabras, permitiendo sólo',\n",
       " 'a las más deseables pasar a través de sus puertas.”']"
      ]
     },
     "execution_count": 18,
     "metadata": {},
     "output_type": "execute_result"
    }
   ],
   "source": [
    "lineas = texto.splitlines()\n",
    "lineas"
   ]
  },
  {
   "cell_type": "markdown",
   "metadata": {},
   "source": [
    "**Elección de Palabra Prohibida**"
   ]
  },
  {
   "cell_type": "code",
   "execution_count": 25,
   "metadata": {},
   "outputs": [
    {
     "name": "stdout",
     "output_type": "stream",
     "text": [
      "La palabra prohibida es: pasar\n"
     ]
    }
   ],
   "source": [
    "palabra_prohibida = str(input(\"Ingresa la palabra prohibida\"))\n",
    "print(f\"La palabra prohibida es: {palabra_prohibida}\")"
   ]
  },
  {
   "cell_type": "markdown",
   "metadata": {},
   "source": [
    "**Filtrado de Palabra**"
   ]
  },
  {
   "cell_type": "code",
   "execution_count": 36,
   "metadata": {},
   "outputs": [
    {
     "data": {
      "text/plain": [
       "['',\n",
       " '“El reto de hoy nos lleva al corazón de la gestión de archivos y la manipulación de texto con un toque de',\n",
       " 'personalización. En un mundo inundado de datos, a menudo nos encontramos en la necesidad de',\n",
       " 'filtrar y refinar la información que fluye a través de nuestros documentos digitales. Ya sea que estés',\n",
       " 'depurando logs, limpiando datos o simplemente organizando tu contenido, la habilidad para excluir',\n",
       " 'información irrelevante es esencial. Imagínate en el rol de un archivista digital cuyo objetivo es',\n",
       " 'preservar la integridad de un texto limpio y puro. Tu misión es transferir preciosos datos de un archivo a',\n",
       " 'otro, pero con una advertencia crucial: debes dejar atrás todas aquellas palabras que no sean dignas de',\n",
       " 'ser trasladadas. Estas palabras prohibidas son como manchas en un lienzo de otro modo inmaculado, y',\n",
       " 'es tu trabajo asegurarte de que no mancillen el nuevo destino del texto. En esta tarea, no sólo pondrás a',\n",
       " 'prueba tus habilidades de programación, sino también tu capacidad para ofrecer soluciones',\n",
       " 'personalizadas que respondan a las necesidades específicas del usuario. El script que crearás actúa',\n",
       " 'como un filtro inteligente, un guardián que distingue entre lo que debe ser conservado y lo que debe',\n",
       " 'ser descartado. Para superar este desafío, deberás escribir un script que pregunte al usuario por esa',\n",
       " 'palabra non grata y proceda meticulosamente a copiar el archivo fuente línea por línea, omitiendo',\n",
       " 'aquellas que contienen el término prohibido. Esta tarea no sólo es un ejercicio de codificación, sino',\n",
       " 'también una lección en la creación de herramientas personalizables que empoderan al usuario para',\n",
       " 'que tome el control de su información. ¿Estás listo para tomar la responsabilidad de este poder de',\n",
       " 'filtrado y ejecutar la tarea con la precisión de un experto? Prepárate para sumergirte en el código y tejer',\n",
       " 'un programa que no sólo copia texto, sino que también imparte justicia a las palabras, permitiendo sólo']"
      ]
     },
     "execution_count": 36,
     "metadata": {},
     "output_type": "execute_result"
    }
   ],
   "source": [
    "texto_filtrado = []\n",
    "for i in range(len(lineas)):\n",
    "    if palabra_prohibida not in lineas[i]:\n",
    "        texto_filtrado.append(lineas[i])\n",
    "\n",
    "texto_filtrado"
   ]
  },
  {
   "cell_type": "markdown",
   "metadata": {},
   "source": [
    "**Convertir la lista a un objeto str**"
   ]
  },
  {
   "cell_type": "code",
   "execution_count": 39,
   "metadata": {},
   "outputs": [
    {
     "data": {
      "text/plain": [
       "'\\n“El reto de hoy nos lleva al corazón de la gestión de archivos y la manipulación de texto con un toque de\\npersonalización. En un mundo inundado de datos, a menudo nos encontramos en la necesidad de\\nfiltrar y refinar la información que fluye a través de nuestros documentos digitales. Ya sea que estés\\ndepurando logs, limpiando datos o simplemente organizando tu contenido, la habilidad para excluir\\ninformación irrelevante es esencial. Imagínate en el rol de un archivista digital cuyo objetivo es\\npreservar la integridad de un texto limpio y puro. Tu misión es transferir preciosos datos de un archivo a\\notro, pero con una advertencia crucial: debes dejar atrás todas aquellas palabras que no sean dignas de\\nser trasladadas. Estas palabras prohibidas son como manchas en un lienzo de otro modo inmaculado, y\\nes tu trabajo asegurarte de que no mancillen el nuevo destino del texto. En esta tarea, no sólo pondrás a\\nprueba tus habilidades de programación, sino también tu capacidad para ofrecer soluciones\\npersonalizadas que respondan a las necesidades específicas del usuario. El script que crearás actúa\\ncomo un filtro inteligente, un guardián que distingue entre lo que debe ser conservado y lo que debe\\nser descartado. Para superar este desafío, deberás escribir un script que pregunte al usuario por esa\\npalabra non grata y proceda meticulosamente a copiar el archivo fuente línea por línea, omitiendo\\naquellas que contienen el término prohibido. Esta tarea no sólo es un ejercicio de codificación, sino\\ntambién una lección en la creación de herramientas personalizables que empoderan al usuario para\\nque tome el control de su información. ¿Estás listo para tomar la responsabilidad de este poder de\\nfiltrado y ejecutar la tarea con la precisión de un experto? Prepárate para sumergirte en el código y tejer\\nun programa que no sólo copia texto, sino que también imparte justicia a las palabras, permitiendo sólo'"
      ]
     },
     "execution_count": 39,
     "metadata": {},
     "output_type": "execute_result"
    }
   ],
   "source": [
    "texto_filtrado_str = '\\n'.join(texto_filtrado)\n",
    "texto_filtrado_str"
   ]
  },
  {
   "cell_type": "markdown",
   "metadata": {},
   "source": [
    "**Guardar el texto filtrado**"
   ]
  },
  {
   "cell_type": "code",
   "execution_count": 40,
   "metadata": {},
   "outputs": [],
   "source": [
    "filtrado = os.path.join(ruta_carpeta, \"texto_desafio7_filtrado.txt\")\n",
    "\n",
    "with open(filtrado, 'w') as f:\n",
    "    f.write(texto_filtrado_str)"
   ]
  }
 ],
 "metadata": {
  "kernelspec": {
   "display_name": "progra_1",
   "language": "python",
   "name": "python3"
  },
  "language_info": {
   "codemirror_mode": {
    "name": "ipython",
    "version": 3
   },
   "file_extension": ".py",
   "mimetype": "text/x-python",
   "name": "python",
   "nbconvert_exporter": "python",
   "pygments_lexer": "ipython3",
   "version": "3.8.17"
  }
 },
 "nbformat": 4,
 "nbformat_minor": 2
}
