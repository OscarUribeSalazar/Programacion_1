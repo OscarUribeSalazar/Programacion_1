{
 "cells": [
  {
   "cell_type": "markdown",
   "metadata": {},
   "source": [
    "# Condicionales"
   ]
  },
  {
   "cell_type": "markdown",
   "metadata": {},
   "source": [
    "Los condicionales en Python se utilizan para tomar decisiones basadas en condiciones específicas. Puedes usar las siguiente estructuar condicionales en Python:\n",
    "if: La declaración if se usa para ejecutar un bloque de código si una condición es verdadera."
   ]
  },
  {
   "cell_type": "code",
   "execution_count": 9,
   "metadata": {},
   "outputs": [],
   "source": [
    "#if condicion:\n",
    "   #Código a ejecutar si la condición es verdadera"
   ]
  },
  {
   "cell_type": "markdown",
   "metadata": {},
   "source": [
    "## Ejercicio 1\n",
    "Escribe un programa que pregunte al usuario su edad y muestre por pantalla si es mayor de edad o no."
   ]
  },
  {
   "cell_type": "code",
   "execution_count": 8,
   "metadata": {},
   "outputs": [
    {
     "name": "stdout",
     "output_type": "stream",
     "text": [
      "Tu edad es: 12\n",
      "No eres mayor de edad\n"
     ]
    }
   ],
   "source": [
    "age = int(input(\"¿Cuál es tu edad?\"))\n",
    "print(\"Tu edad es:\", age)\n",
    "if age > 18:\n",
    "    print(\"Eres mayor de edad\")\n",
    "else:\n",
    "    print(\"No eres mayor de edad\")"
   ]
  },
  {
   "cell_type": "markdown",
   "metadata": {},
   "source": [
    "## Ejercicio 2\n",
    "\n",
    "Escribir un programa que almacene la cadena de caracteres `contraseña` en una variable, pregunte al usuario por la contraseña e imprima por pantalla si la contraseña introducida por el usuario coincide con la guardada en la variable sin tener en cuenta mayúsculas y minúsculas."
   ]
  },
  {
   "cell_type": "code",
   "execution_count": 10,
   "metadata": {},
   "outputs": [
    {
     "name": "stdout",
     "output_type": "stream",
     "text": [
      "La contraseña coincide\n"
     ]
    }
   ],
   "source": [
    "key = \"contraseña\"\n",
    "password = input(\"Introduce tu contraseña: \")\n",
    "if key == password.lower():\n",
    "    print(\"La contraseña coincide\")\n",
    "else:\n",
    "    print(\"La contraseña no coincide\")"
   ]
  },
  {
   "cell_type": "markdown",
   "metadata": {},
   "source": [
    "## Ejercicio 3\n",
    "\n",
    "Escribir un programa que pida al usuario dos números y devuelva su división. Si el usuario no introduce números debe devolver un aviso de error y si el divisor es cero también."
   ]
  },
  {
   "cell_type": "code",
   "execution_count": 18,
   "metadata": {},
   "outputs": [
    {
     "name": "stdout",
     "output_type": "stream",
     "text": [
      "5.0\n"
     ]
    }
   ],
   "source": [
    "num1 = float(input(\"Introduce el dividendo:\"))\n",
    "num2 = float(input(\"Introduce el divisor:\"))\n",
    "\n",
    "if num2 == 0:\n",
    "    print(\"!Error¡ No se puede dividir por 0\")\n",
    "else:\n",
    "    print(num1/num2)\n",
    "    "
   ]
  },
  {
   "cell_type": "markdown",
   "metadata": {},
   "source": [
    "## Ejercicio 4\n",
    "\n",
    "Escribir un programa que pida al usuario un número entero y muestre por pantalla si es par o impar."
   ]
  },
  {
   "cell_type": "code",
   "execution_count": 19,
   "metadata": {},
   "outputs": [
    {
     "name": "stdout",
     "output_type": "stream",
     "text": [
      "El número: 3 no es par\n"
     ]
    }
   ],
   "source": [
    "num1 = int(input(\"Introduce el dividendo:\"))\n",
    "\n",
    "if num1 % 2 == 0:\n",
    "    print(\"El número: \" + str(num1) + \" es par\")\n",
    "else:\n",
    "    print(\"El número: \" + str(num1) + \" no es par\")\n",
    "    "
   ]
  },
  {
   "cell_type": "markdown",
   "metadata": {},
   "source": [
    "## Ejercicio 5\n",
    "\n",
    "Para tributar un determinado impuesto se debe ser mayor de 16 años y tener unos ingresos superiores a 1000 € mensuales.\n",
    "Escribir un programa que pregunte al usuario su edad y sus ingresos mensuales y muestre por pantalla si el usuario tiene que tributar o no."
   ]
  },
  {
   "cell_type": "code",
   "execution_count": 20,
   "metadata": {},
   "outputs": [
    {
     "name": "stdout",
     "output_type": "stream",
     "text": [
      "Tienes que pagar impuestos\n"
     ]
    }
   ],
   "source": [
    "age = int(input(\"¿Cuál es tu edad?\"))\n",
    "ingresos = float(input(\"¿Cuáles son tus ingresos\"))\n",
    "\n",
    "if age > 16 and ingresos >= 1000:\n",
    "    print(\"Tienes que pagar impuestos\")\n",
    "else:\n",
    "    print(\"No tienes que pagar impuestos\")"
   ]
  },
  {
   "cell_type": "markdown",
   "metadata": {},
   "source": [
    "## Ejercicio 6\n",
    "\n",
    "Los alumnos de un curso se han dividido en dos grupos A y B de acuerdo al sexo y el nombre. El grupo A esta formado por las mujeres con un nombre anterior a la M y los hombres con un nombre posterior a la N y el grupo B por el resto.\n",
    "Escribir un programa que pregunte al usuario su nombre y sexo, y muestre por pantalla el grupo que le corresponde."
   ]
  },
  {
   "cell_type": "code",
   "execution_count": 6,
   "metadata": {},
   "outputs": [
    {
     "name": "stdout",
     "output_type": "stream",
     "text": [
      "Oscar Pertences al grupo A\n"
     ]
    }
   ],
   "source": [
    "nombre = input(\"¿Cául es tu nombre?\")\n",
    "sexo = input(\"¿Cúal es tu Sexo? (M = Másculino y F = Femenino)\")\n",
    "\n",
    "if sexo.upper() == \"F\":\n",
    "    if nombre.lower() < \"m\":\n",
    "        print(nombre, \"Perteneces al grupo A\")\n",
    "    else:\n",
    "        print(nombre, \"Pertences al grupo B\")\n",
    "else:\n",
    "    if nombre.lower() > \"n\":\n",
    "        print(nombre, \"Pertences al grupo A\")\n",
    "    else:\n",
    "        print(nombre, \"Pertences al grupo B\")"
   ]
  },
  {
   "cell_type": "markdown",
   "metadata": {},
   "source": [
    "## Ejercicio 7\n",
    "\n",
    "\n",
    "Los tramos impositivos para la declaración de la renta en un determinado país son los siguientes:\n",
    "\n",
    "|         Renta          | Tipo impositivo |\n",
    "| :--------------------: | :-------------: |\n",
    "|    Menos de 10000€     |       5%        |\n",
    "| Entre 10000€ y 20000€  |       15%       |\n",
    "| Entre 20000€ y 35000€  |       20%       |\n",
    "| Entre 35000€ y 60000€  |       30%       |\n",
    "|     Más de 60000€      |       45%       |\n",
    "\n",
    "Escribir un programa que pregunte al usuario su renta anual y muestre por pantalla lo que tiene que pagar."
   ]
  },
  {
   "cell_type": "code",
   "execution_count": 13,
   "metadata": {},
   "outputs": [
    {
     "name": "stdout",
     "output_type": "stream",
     "text": [
      "Tienes que pagar de impuesto: 29700.0 €\n"
     ]
    }
   ],
   "source": [
    "renta = int(input(\"¿Canto pagas de renta?\"))\n",
    "\n",
    "if renta < 10000:\n",
    "    print(\"Tienes que pagar de impuesto:\", str(renta * .05), \"€\")\n",
    "elif renta < 20000:\n",
    "    print(\"Tienes que pagar de impuesto:\", str(renta * .15), \"€\")\n",
    "elif renta < 35000:\n",
    "    print(\"Tienes que pagar de impuesto:\", str(renta * .20), \"€\")\n",
    "elif renta < 60000:\n",
    "    print(\"Tienes que pagar de impuesto:\", str(renta * .30), \"€\")\n",
    "else:\n",
    "    print(\"Tienes que pagar de impuesto:\", str(renta * .45), \"€\")"
   ]
  },
  {
   "cell_type": "markdown",
   "metadata": {},
   "source": [
    "## Ejercicio 8\n",
    "\n",
    "En una determinada empresa, sus empleados son evaluados al final de cada año. Los puntos que pueden obtener en la evaluación comienzan en 0.0 y pueden ir aumentando, traduciéndose en mejores beneficios.\n",
    "Los puntos que pueden conseguir los empleados pueden ser 0.0, 0.4. o 0.6, pero no valores intermedios entre las cifras mencionadas.\n",
    "A continuación se muestra una tabla con los niveles correspondientes a cada puntuación.\n",
    "La cantidad de dinero conseguida en cada nivel es de 2.400€ multiplicada por la puntuación del nivel.\n",
    "\n",
    "|    Nivel    | Puntuación |\n",
    "| :---------: | :--------: |\n",
    "| Inaceptable |    0.0     |\n",
    "|  Aceptable  |    0.4     |\n",
    "|  Meritorio  |    0.6     |\n",
    "\n",
    "Escribir un programa que lea la puntuación del usuario e indique su nivel de rendimiento, así como la cantidad de dinero que recibirá el usuario."
   ]
  },
  {
   "cell_type": "code",
   "execution_count": 20,
   "metadata": {},
   "outputs": [
    {
     "name": "stdout",
     "output_type": "stream",
     "text": [
      "Tu rendimiento es Meritorio\n",
      "La cantidad de dinero que recibiras es de 1440.0 €\n"
     ]
    }
   ],
   "source": [
    "inaceptable = 0.0\n",
    "aceptable = 0.4\n",
    "meritorio = 0.6\n",
    "bono =  2400\n",
    "puntacion = float(input(\"¿Cuál es tu puntuación?\"))\n",
    "\n",
    "if puntacion == inaceptable:\n",
    "    nivel = \"Inaceptable\"\n",
    "elif puntacion == aceptable:\n",
    "    nivel = \"Aceptable\"\n",
    "elif puntacion >= meritorio:\n",
    "    nivel = \"Meritorio\"\n",
    "else:\n",
    "    nivel = \"\"\n",
    "\n",
    "if nivel == \"\":\n",
    "    print(\"Introduce una puntuación correcta\")\n",
    "else:\n",
    "    print(\"Tu rendimiento es\", nivel)\n",
    "    if nivel == \"Inaceptable\":\n",
    "        print(\"La cantidad de dinero que recibiras es de\", bono, \"€\")\n",
    "    elif nivel == \"Aceptable\":\n",
    "        print(\"La cantidad de dinero que recibiras es de\", bono * aceptable, \"€\")\n",
    "    else:\n",
    "        print(\"La cantidad de dinero que recibiras es de\", bono * meritorio, \"€\")"
   ]
  },
  {
   "cell_type": "markdown",
   "metadata": {},
   "source": [
    "## Ejercicio 9\n",
    "\n",
    "Escribir un programa para una empresa que tiene salas de juegos para todas las edades y quiere calcular de forma automática el precio que debe cobrar a sus clientes por entrar.\n",
    "El programa debe preguntar al usuario la edad del cliente y mostrar el precio de la entrada.\n",
    "Si el cliente es menor de 4 años puede entrar gratis, si tiene entre 4 y 18 años debe pagar 5€ y si es mayor de 18 años, 10€.\n"
   ]
  },
  {
   "cell_type": "code",
   "execution_count": 22,
   "metadata": {},
   "outputs": [
    {
     "name": "stdout",
     "output_type": "stream",
     "text": [
      "Debes pagar 10€ para entrar\n"
     ]
    }
   ],
   "source": [
    "edad = int(input(\"¿Cuál es tu edad?\"))\n",
    "\n",
    "if edad < 4:\n",
    "    print(\"Puedes entrar gratis\")\n",
    "elif edad <= 18:\n",
    "    print(\"Debes pagar 5€ para entrar\")\n",
    "else:\n",
    "    print(\"Debes pagar 10€ para entrar\")"
   ]
  },
  {
   "cell_type": "markdown",
   "metadata": {},
   "source": [
    "## Ejercicio 10\n",
    "La pizzería Bella Napoli ofrece pizzas vegetarianas y no vegetarianas a sus clientes. Los ingredientes para cada tipo de pizza aparecen a continuación.\n",
    "\n",
    "Ingredientes vegetarianos: Pimiento y tofu.\n",
    "Ingredientes no vegetarianos: Peperoni, Jamón y Salmón.\n",
    "Escribir un programa que pregunte al usuario si quiere una pizza vegetariana o no, y en función de su respuesta le muestre un menú con los ingredientes disponibles para que elija. Solo se puede eligir un ingrediente además de la mozzarella y el tomate que están en todas la pizzas. Al final se debe mostrar por pantalla si la pizza elegida es vegetariana o no y todos los ingredientes que lleva."
   ]
  },
  {
   "cell_type": "code",
   "execution_count": 28,
   "metadata": {},
   "outputs": [
    {
     "name": "stdout",
     "output_type": "stream",
     "text": [
      "Su pizza es No vegetariana con mozzarella, tomate y Salmón\n"
     ]
    }
   ],
   "source": [
    "#Ingredientes\n",
    "\n",
    "pizza = input(\"¿Qué tipo de pizza desea ordenar? (Vegetariana o No Vegetariana)\")\n",
    "\n",
    "if pizza.lower() == \"vegetariana\":\n",
    "    ingrediente = input(\"¿Qué tipo de ingredientes desea ordenar? Pimiento o Tofu\")\n",
    "    print(\"Su pizza es\", pizza, \"con mozzarella, tomate y\", ingrediente)\n",
    "elif pizza.lower() == \"no vegetariana\":\n",
    "    ingrediente = input(\"¿Qué tipo de ingredientes desea ordenar? Peperoni, Jamón o Salmón\")\n",
    "    print(\"Su pizza es\", pizza, \"con mozzarella, tomate y\", ingrediente)\n",
    "else:\n",
    "    print(\"Introduce un tipo de pizza correcto\")"
   ]
  }
 ],
 "metadata": {
  "kernelspec": {
   "display_name": "progra_1",
   "language": "python",
   "name": "python3"
  },
  "language_info": {
   "codemirror_mode": {
    "name": "ipython",
    "version": 3
   },
   "file_extension": ".py",
   "mimetype": "text/x-python",
   "name": "python",
   "nbconvert_exporter": "python",
   "pygments_lexer": "ipython3",
   "version": "3.8.17"
  },
  "orig_nbformat": 4
 },
 "nbformat": 4,
 "nbformat_minor": 2
}
